{
  "nbformat": 4,
  "nbformat_minor": 0,
  "metadata": {
    "colab": {
      "provenance": [],
      "name": "Day1.ipynb",
      "authorship_tag": "ABX9TyMui5oj4bU4NV9hp5EoG7wu",
      "include_colab_link": true
    },
    "kernelspec": {
      "name": "python3",
      "display_name": "Python 3"
    },
    "language_info": {
      "name": "python"
    }
  },
  "cells": [
    {
      "cell_type": "markdown",
      "metadata": {
        "id": "view-in-github",
        "colab_type": "text"
      },
      "source": [
        "<a href=\"https://colab.research.google.com/github/Aswinramesh04/100-DaysOfCode-DataScience/blob/main/Day1.ipynb\" target=\"_parent\"><img src=\"https://colab.research.google.com/assets/colab-badge.svg\" alt=\"Open In Colab\"/></a>"
      ]
    },
    {
      "cell_type": "markdown",
      "source": [
        "                 --------------**Python Decision Making**--------\n",
        "                                 \"26 September 2023\"   - Loga Aswin             "
      ],
      "metadata": {
        "id": "jf1UglkchbQy"
      }
    },
    {
      "cell_type": "markdown",
      "source": [
        "**Python if...else Statement**"
      ],
      "metadata": {
        "id": "EuZ-uoGnVQru"
      }
    },
    {
      "cell_type": "code",
      "source": [
        "number = 10\n",
        "\n",
        "if number > 0:\n",
        "    print('True')\n",
        "\n",
        "else:\n",
        "    print('False')\n"
      ],
      "metadata": {
        "colab": {
          "base_uri": "https://localhost:8080/"
        },
        "id": "Psb4HyqfbgPS",
        "outputId": "9ab8f7e7-4137-4924-887d-32a63dad323f"
      },
      "execution_count": 12,
      "outputs": [
        {
          "output_type": "stream",
          "name": "stdout",
          "text": [
            "True\n"
          ]
        }
      ]
    },
    {
      "cell_type": "markdown",
      "source": [
        "**Python if...elif...else Statement**"
      ],
      "metadata": {
        "id": "uWzlk8_abXIq"
      }
    },
    {
      "cell_type": "code",
      "source": [
        "a = 10\n",
        "b=5\n",
        "if a>b:\n",
        "  print(\"Number is positive\")\n",
        "elif a==b:\n",
        "   print(\"Both are equal\")\n",
        "else:\n",
        "  print(\"Number is negative\")"
      ],
      "metadata": {
        "colab": {
          "base_uri": "https://localhost:8080/"
        },
        "id": "f3cmqQi-Vovs",
        "outputId": "d21cf1fb-e6c6-4cbf-b7ab-520e75abb534"
      },
      "execution_count": 11,
      "outputs": [
        {
          "output_type": "stream",
          "name": "stdout",
          "text": [
            "Number is positive\n"
          ]
        }
      ]
    },
    {
      "cell_type": "markdown",
      "source": [
        "**Nested-if loops**"
      ],
      "metadata": {
        "id": "fiNnXx3DcIVt"
      }
    },
    {
      "cell_type": "code",
      "source": [
        "number = 10\n",
        "if (number >= 0):\n",
        "    if number == 10:\n",
        "      print('Number is 10')\n",
        "    else:\n",
        "        print('Number is positive')\n",
        "else:\n",
        "    print('Number is negative')\n"
      ],
      "metadata": {
        "colab": {
          "base_uri": "https://localhost:8080/"
        },
        "id": "eNA_MMVRbsDa",
        "outputId": "df8a7228-f792-431d-bc05-86aea016d248"
      },
      "execution_count": 16,
      "outputs": [
        {
          "output_type": "stream",
          "name": "stdout",
          "text": [
            "Number is 10\n"
          ]
        }
      ]
    },
    {
      "cell_type": "markdown",
      "source": [
        "                      **Python for Loop**\n",
        "   * Loop are used to repeat the block of code\n",
        "   * For Eg: If you want to display a message 1000 times, then we use a loop .\n",
        "   ** 2 types of loops:\n",
        "              # For Loop\n",
        "              # While Loop                   "
      ],
      "metadata": {
        "id": "rFB3caFahlLP"
      }
    },
    {
      "cell_type": "markdown",
      "source": [
        "**For Loop**"
      ],
      "metadata": {
        "id": "AOHUWshHkA4o"
      }
    },
    {
      "cell_type": "code",
      "source": [
        "# iterate from i = 0 to i = 3\n",
        "for i in range(0,4):\n",
        "    print(i)"
      ],
      "metadata": {
        "colab": {
          "base_uri": "https://localhost:8080/"
        },
        "id": "ZOCKiwPzjfj6",
        "outputId": "6a4c5fca-7112-41eb-bc96-694ffe0377f4"
      },
      "execution_count": 19,
      "outputs": [
        {
          "output_type": "stream",
          "name": "stdout",
          "text": [
            "0\n",
            "1\n",
            "2\n",
            "3\n"
          ]
        }
      ]
    },
    {
      "cell_type": "markdown",
      "source": [
        "**For Loop with else**"
      ],
      "metadata": {
        "id": "tOizv6cGklLb"
      }
    },
    {
      "cell_type": "code",
      "source": [
        "sample = [0,1,2]\n",
        "for i in sample:\n",
        "  print(i)\n",
        "else:\n",
        "  print('No.')"
      ],
      "metadata": {
        "colab": {
          "base_uri": "https://localhost:8080/"
        },
        "id": "zemGD1lZkj6O",
        "outputId": "7b39d6d8-b3c7-423a-b16d-8f6bc3581468"
      },
      "execution_count": 21,
      "outputs": [
        {
          "output_type": "stream",
          "name": "stdout",
          "text": [
            "0\n",
            "1\n",
            "2\n",
            "No.\n"
          ]
        }
      ]
    },
    {
      "cell_type": "markdown",
      "source": [
        "                         **Python While loop**\n",
        "Python while loop is used to run a block code until a certain condition is met."
      ],
      "metadata": {
        "id": "JL_njppolsjM"
      }
    },
    {
      "cell_type": "code",
      "source": [
        "# initialize the variable\n",
        "i = 5\n",
        "n = 10\n",
        "\n",
        "# while loop from i = 1 to 5\n",
        "while i <= n:\n",
        "    print(i)\n",
        "    i = i + 1"
      ],
      "metadata": {
        "colab": {
          "base_uri": "https://localhost:8080/"
        },
        "id": "xlNCHufbl1i3",
        "outputId": "4835ccd5-864d-46f8-9c7b-f0c70003d4d0"
      },
      "execution_count": 22,
      "outputs": [
        {
          "output_type": "stream",
          "name": "stdout",
          "text": [
            "5\n",
            "6\n",
            "7\n",
            "8\n",
            "9\n",
            "10\n"
          ]
        }
      ]
    },
    {
      "cell_type": "markdown",
      "source": [
        "**Infinite While Loop**"
      ],
      "metadata": {
        "id": "nH7dfJODmgs2"
      }
    },
    {
      "cell_type": "code",
      "source": [
        "age = 42\n",
        "while age > 18:     # always true\n",
        "    print('You can vote')"
      ],
      "metadata": {
        "id": "SxIO-hIUn77e"
      },
      "execution_count": null,
      "outputs": []
    },
    {
      "cell_type": "markdown",
      "source": [
        "**While loop with else**"
      ],
      "metadata": {
        "id": "sIIZL7Stos1B"
      }
    },
    {
      "cell_type": "code",
      "source": [
        "sample = 0\n",
        "while sample < 3:\n",
        "  print('Hi')\n",
        "  sample = sample + 1\n",
        "else:\n",
        "  print('Bye')"
      ],
      "metadata": {
        "colab": {
          "base_uri": "https://localhost:8080/"
        },
        "id": "kGO-EgtboCpj",
        "outputId": "2b259cb3-eb3c-4b97-8f00-35e81e199655"
      },
      "execution_count": 26,
      "outputs": [
        {
          "output_type": "stream",
          "name": "stdout",
          "text": [
            "Hi\n",
            "Hi\n",
            "Hi\n",
            "Bye\n"
          ]
        }
      ]
    },
    {
      "cell_type": "markdown",
      "source": [
        "                                           ** Break Statement**\n",
        " * Break statement is used to terminate the loop immediately when it is encountered."
      ],
      "metadata": {
        "id": "B-cXuy0eo8bP"
      }
    },
    {
      "cell_type": "code",
      "source": [
        "for i in range(5):\n",
        "    if i == 3:\n",
        "        break             #terminate the loop\n",
        "    print(i)"
      ],
      "metadata": {
        "colab": {
          "base_uri": "https://localhost:8080/"
        },
        "id": "cZuTIB2Fo-h2",
        "outputId": "3b6b5a65-7e1f-4d37-c211-085a47f002c1"
      },
      "execution_count": 27,
      "outputs": [
        {
          "output_type": "stream",
          "name": "stdout",
          "text": [
            "0\n",
            "1\n",
            "2\n"
          ]
        }
      ]
    },
    {
      "cell_type": "markdown",
      "source": [
        "**Continue Statement**"
      ],
      "metadata": {
        "id": "e4KRXuJIpDE5"
      }
    },
    {
      "cell_type": "code",
      "source": [
        "for i in range(5):\n",
        "    if i == 3:\n",
        "        continue   #it skips the current iteration\n",
        "    print(i)"
      ],
      "metadata": {
        "colab": {
          "base_uri": "https://localhost:8080/"
        },
        "id": "DXDxZufPpFi5",
        "outputId": "0e5c6cea-7566-46c3-9819-671c6b5fa2e2"
      },
      "execution_count": 28,
      "outputs": [
        {
          "output_type": "stream",
          "name": "stdout",
          "text": [
            "0\n",
            "1\n",
            "2\n",
            "4\n"
          ]
        }
      ]
    },
    {
      "cell_type": "markdown",
      "source": [
        "                                ** Pass Statement**\n",
        " * Pass statement is a null statement which can be used as a placeholder for future code.                                "
      ],
      "metadata": {
        "id": "L9NlvCSkqRjG"
      }
    }
  ]
}