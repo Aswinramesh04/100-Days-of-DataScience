{
  "nbformat": 4,
  "nbformat_minor": 0,
  "metadata": {
    "colab": {
      "provenance": [],
      "authorship_tag": "ABX9TyM5WERPlcW2D93brX1J893Q",
      "include_colab_link": true
    },
    "kernelspec": {
      "name": "python3",
      "display_name": "Python 3"
    },
    "language_info": {
      "name": "python"
    }
  },
  "cells": [
    {
      "cell_type": "markdown",
      "metadata": {
        "id": "view-in-github",
        "colab_type": "text"
      },
      "source": [
        "<a href=\"https://colab.research.google.com/github/Aswinramesh04/100-Days-of-DataScience/blob/main/Day7.ipynb\" target=\"_parent\"><img src=\"https://colab.research.google.com/assets/colab-badge.svg\" alt=\"Open In Colab\"/></a>"
      ]
    },
    {
      "cell_type": "code",
      "execution_count": null,
      "metadata": {
        "id": "t3Grim_7TWEa"
      },
      "outputs": [],
      "source": [
        "Advance python topics\n",
        "\n",
        "Python Decorators\n",
        "python Iterator\n",
        "python Regex\n",
        "Python Closure\n",
        "Python generator\n",
        "python property\n",
        "\n",
        "Python date and time\n",
        "packages\n"
      ]
    },
    {
      "cell_type": "code",
      "source": [
        "def welcome():\n",
        "  print(\"Hi\")\n",
        "welcome()"
      ],
      "metadata": {
        "colab": {
          "base_uri": "https://localhost:8080/"
        },
        "id": "tEEZhTUZWx40",
        "outputId": "54db1456-99c9-4815-9d66-150e0000d311"
      },
      "execution_count": 1,
      "outputs": [
        {
          "output_type": "stream",
          "name": "stdout",
          "text": [
            "Hi\n"
          ]
        }
      ]
    },
    {
      "cell_type": "code",
      "source": [
        "def func1():\n",
        "  print(\"Hi\")\n",
        "func2 = func1\n",
        "func2()  #copies and stores"
      ],
      "metadata": {
        "colab": {
          "base_uri": "https://localhost:8080/"
        },
        "id": "9PbSygqNXViP",
        "outputId": "584035de-8c34-41de-de86-0f4b6349bcfb"
      },
      "execution_count": 2,
      "outputs": [
        {
          "output_type": "stream",
          "name": "stdout",
          "text": [
            "Hi\n"
          ]
        }
      ]
    },
    {
      "cell_type": "code",
      "source": [
        "def func1():\n",
        "  print(\"Hi\")\n",
        "func2 = func1\n",
        "del func1\n",
        "func2()  #del keyword"
      ],
      "metadata": {
        "colab": {
          "base_uri": "https://localhost:8080/"
        },
        "id": "2EFRyuCdXmXC",
        "outputId": "0dd8904e-1a4d-4600-fee2-33aea900f5d9"
      },
      "execution_count": 3,
      "outputs": [
        {
          "output_type": "stream",
          "name": "stdout",
          "text": [
            "Hi\n"
          ]
        }
      ]
    },
    {
      "cell_type": "code",
      "source": [
        "def funcreturner(num):\n",
        "  if num==0:\n",
        "    return print\n",
        "  if num==1:\n",
        "    return int\n",
        "a = funcreturner(0)\n",
        "print(a)"
      ],
      "metadata": {
        "colab": {
          "base_uri": "https://localhost:8080/"
        },
        "id": "Yy9sF2vTX4DK",
        "outputId": "a76bbcbc-e50a-4be6-d565-563ae4bfde79"
      },
      "execution_count": 5,
      "outputs": [
        {
          "output_type": "stream",
          "name": "stdout",
          "text": [
            "<built-in function print>\n"
          ]
        }
      ]
    },
    {
      "cell_type": "markdown",
      "source": [
        "**Func inside as argumenent**"
      ],
      "metadata": {
        "id": "-KbgUQFEZiR4"
      }
    },
    {
      "cell_type": "code",
      "source": [
        "def funcexecuter(func):\n",
        "  func(\"this is print statement\")\n",
        "funcexecuter(print)\n",
        "\n",
        "#function taken as argument and can work inside the function"
      ],
      "metadata": {
        "colab": {
          "base_uri": "https://localhost:8080/"
        },
        "id": "EuboFM99Yc3g",
        "outputId": "7af60159-75c9-4647-d67a-1668d5950df5"
      },
      "execution_count": 8,
      "outputs": [
        {
          "output_type": "stream",
          "name": "stdout",
          "text": [
            "this is print statement\n"
          ]
        }
      ]
    },
    {
      "cell_type": "code",
      "source": [
        "#Nested function\n",
        "def outer_function():\n",
        "  def inner_function():\n",
        "    print(\"i came from the inner statement\")\n",
        "\n",
        "  inner_function()\n",
        "outer_function()\n"
      ],
      "metadata": {
        "colab": {
          "base_uri": "https://localhost:8080/"
        },
        "id": "2S3x6kR9ZmGv",
        "outputId": "27fd7b7d-57e8-431a-ba13-c0591ae865d3"
      },
      "execution_count": 12,
      "outputs": [
        {
          "output_type": "stream",
          "name": "stdout",
          "text": [
            "i came from the inner statement\n"
          ]
        }
      ]
    },
    {
      "cell_type": "code",
      "source": [
        "#storing outer function in variable and calling the result\n",
        "def outer_function():\n",
        "\n",
        "  hello = \"hi welcome\"\n",
        "  def inner_function():\n",
        "    print(hello)\n",
        "  return inner_function\n",
        "\n",
        "a = outer_function()\n",
        "a()"
      ],
      "metadata": {
        "colab": {
          "base_uri": "https://localhost:8080/"
        },
        "id": "YRlGBokRaOdf",
        "outputId": "87aec1e2-bf29-4d4d-da72-334a6793711c"
      },
      "execution_count": 16,
      "outputs": [
        {
          "output_type": "stream",
          "name": "stdout",
          "text": [
            "hi welcome\n"
          ]
        }
      ]
    },
    {
      "cell_type": "code",
      "source": [
        "def outer(message):\n",
        "  def inner():\n",
        "    print(\"Message: \",message)\n",
        "  return inner\n",
        "\n",
        "hi = outer(\"Hello!\")\n",
        "hi()\n",
        "\n",
        "hi2 = outer(\"Bye!\")\n",
        "hi2()\n",
        "#closure pattern"
      ],
      "metadata": {
        "colab": {
          "base_uri": "https://localhost:8080/"
        },
        "id": "Byp8C8uabFla",
        "outputId": "0794f2ac-c526-4797-dcab-98b8de3ca92a"
      },
      "execution_count": 18,
      "outputs": [
        {
          "output_type": "stream",
          "name": "stdout",
          "text": [
            "Message:  Hello!\n",
            "Message:  Bye!\n"
          ]
        }
      ]
    },
    {
      "cell_type": "code",
      "source": [
        "def add(x, y):\n",
        "  return x + y\n",
        "def do_math(operation, a, b):\n",
        "  result = operation(a, b)\n",
        "  print(result)\n",
        "do_math(add, 5, 3)"
      ],
      "metadata": {
        "colab": {
          "base_uri": "https://localhost:8080/"
        },
        "id": "eTqsuxAOcNXF",
        "outputId": "d2a6a75a-a860-4204-d280-7962d44c1e85"
      },
      "execution_count": 19,
      "outputs": [
        {
          "output_type": "stream",
          "name": "stdout",
          "text": [
            "8\n"
          ]
        }
      ]
    },
    {
      "cell_type": "code",
      "source": [
        "def car(func):\n",
        "  func()\n",
        "  print(\"Germany cars\")\n",
        "def start():\n",
        "  print(\"I'm going to start\")\n",
        "\n",
        "car(start)"
      ],
      "metadata": {
        "colab": {
          "base_uri": "https://localhost:8080/"
        },
        "id": "weKrQeoydE1w",
        "outputId": "a03970ec-7b7c-464e-c050-c6bf04bbe57c"
      },
      "execution_count": 20,
      "outputs": [
        {
          "output_type": "stream",
          "name": "stdout",
          "text": [
            "I'm going to start\n",
            "Germany cars\n"
          ]
        }
      ]
    },
    {
      "cell_type": "code",
      "source": [
        "Decorator - Without changing the actual code, we are modifying the behaviour of the function"
      ],
      "metadata": {
        "id": "EI1hnVXRd4U9"
      },
      "execution_count": null,
      "outputs": []
    },
    {
      "cell_type": "code",
      "source": [
        "def dec1(func):\n",
        "  def execution():\n",
        "    print(\"Executing\")\n",
        "    func()\n",
        "    print(\"Executed\")\n",
        "\n",
        "  return execution\n",
        "\n",
        "\n",
        "def world():\n",
        "  print(\"Hello\")\n",
        "\n",
        "a = dec1(world)\n",
        "a()"
      ],
      "metadata": {
        "colab": {
          "base_uri": "https://localhost:8080/"
        },
        "id": "XRrN2R__eIHA",
        "outputId": "b0e8ee6c-4210-4da4-ce02-831f03df5494"
      },
      "execution_count": 23,
      "outputs": [
        {
          "output_type": "stream",
          "name": "stdout",
          "text": [
            "Executing\n",
            "Hello\n",
            "Executed\n"
          ]
        }
      ]
    },
    {
      "cell_type": "code",
      "source": [
        "# decorator using python property\n",
        "def dec1(func):\n",
        "  def execution():\n",
        "    print(\"Executing\")\n",
        "    func()\n",
        "    print(\"Executed\")\n",
        "\n",
        "  return execution\n",
        "\n",
        "@dec1\n",
        "def world():\n",
        "  print(\"Hello\")\n",
        "world()\n",
        "# a = dec1(world)\n",
        "# a()"
      ],
      "metadata": {
        "colab": {
          "base_uri": "https://localhost:8080/"
        },
        "id": "FUB4eBFWg6UU",
        "outputId": "94f174e1-ce07-42a8-d909-0b5535d2aa5a"
      },
      "execution_count": 24,
      "outputs": [
        {
          "output_type": "stream",
          "name": "stdout",
          "text": [
            "Executing\n",
            "Hello\n",
            "Executed\n"
          ]
        }
      ]
    },
    {
      "cell_type": "code",
      "source": [
        "def my_decorator(func):\n",
        "  def inner():\n",
        "    print(\"before the function called\")\n",
        "    func()\n",
        "    print(\"after the function is called.\")\n",
        "\n",
        "  return inner\n",
        "\n",
        "@my_decorator\n",
        "def say_hello():\n",
        "  print(\"Hello!\")\n",
        "say_hello()\n",
        "\n",
        "# x = my_decorator(hi)\n",
        "# x()"
      ],
      "metadata": {
        "colab": {
          "base_uri": "https://localhost:8080/"
        },
        "id": "JlDXZyhBhHDz",
        "outputId": "01797332-851a-4dd8-8699-9ea664642565"
      },
      "execution_count": 25,
      "outputs": [
        {
          "output_type": "stream",
          "name": "stdout",
          "text": [
            "before the function called\n",
            "Message:  Hello!\n",
            "after the function is called.\n"
          ]
        }
      ]
    },
    {
      "cell_type": "code",
      "source": [
        "class Circle:\n",
        "  def __init__(self, radius):\n",
        "    self.radius = radius\n",
        "\n",
        "    def get_radius(self):\n",
        "      return self.radius\n",
        "\n",
        "    def set_radius(self, value):\n",
        "      if value <= 0:\n",
        "        raise ValueError(\"Radius must be positive only\")\n",
        "\n",
        "      self.radius = value\n",
        "\n",
        "    def get_area(self):\n",
        "      return 3.14 * self.radius ** 2\n",
        "\n",
        "circle = Circle(5)\n",
        "print(\"Radius:\", circle.get_radius())\n",
        "print(\"Area:\", circle.get_area())\n",
        "\n",
        "circle.set_radius(10)\n",
        "print(\"Radius:\", circle.get_radius())\n",
        "print(\"Area: \", circle.get_area)\n",
        "\n"
      ],
      "metadata": {
        "colab": {
          "base_uri": "https://localhost:8080/",
          "height": 211
        },
        "id": "IfI-FCiKmYlr",
        "outputId": "15a6b350-5551-4889-edc4-d22dc44abc24"
      },
      "execution_count": 48,
      "outputs": [
        {
          "output_type": "error",
          "ename": "AttributeError",
          "evalue": "'Circle' object has no attribute 'get_radius'",
          "traceback": [
            "\u001b[0;31m---------------------------------------------------------------------------\u001b[0m",
            "\u001b[0;31mAttributeError\u001b[0m                            Traceback (most recent call last)",
            "\u001b[0;32m<ipython-input-48-72ac157549e3>\u001b[0m in \u001b[0;36m<cell line: 18>\u001b[0;34m()\u001b[0m\n\u001b[1;32m     16\u001b[0m \u001b[0;34m\u001b[0m\u001b[0m\n\u001b[1;32m     17\u001b[0m \u001b[0mcircle\u001b[0m \u001b[0;34m=\u001b[0m \u001b[0mCircle\u001b[0m\u001b[0;34m(\u001b[0m\u001b[0;36m5\u001b[0m\u001b[0;34m)\u001b[0m\u001b[0;34m\u001b[0m\u001b[0;34m\u001b[0m\u001b[0m\n\u001b[0;32m---> 18\u001b[0;31m \u001b[0mprint\u001b[0m\u001b[0;34m(\u001b[0m\u001b[0;34m\"Radius:\"\u001b[0m\u001b[0;34m,\u001b[0m \u001b[0mcircle\u001b[0m\u001b[0;34m.\u001b[0m\u001b[0mget_radius\u001b[0m\u001b[0;34m(\u001b[0m\u001b[0;34m)\u001b[0m\u001b[0;34m)\u001b[0m\u001b[0;34m\u001b[0m\u001b[0;34m\u001b[0m\u001b[0m\n\u001b[0m\u001b[1;32m     19\u001b[0m \u001b[0mprint\u001b[0m\u001b[0;34m(\u001b[0m\u001b[0;34m\"Area:\"\u001b[0m\u001b[0;34m,\u001b[0m \u001b[0mcircle\u001b[0m\u001b[0;34m.\u001b[0m\u001b[0mget_area\u001b[0m\u001b[0;34m(\u001b[0m\u001b[0;34m)\u001b[0m\u001b[0;34m)\u001b[0m\u001b[0;34m\u001b[0m\u001b[0;34m\u001b[0m\u001b[0m\n\u001b[1;32m     20\u001b[0m \u001b[0;34m\u001b[0m\u001b[0m\n",
            "\u001b[0;31mAttributeError\u001b[0m: 'Circle' object has no attribute 'get_radius'"
          ]
        }
      ]
    },
    {
      "cell_type": "code",
      "source": [
        "class Circle:\n",
        "    def __init__(self, radius):\n",
        "        self._radius = radius\n",
        "\n",
        "    @property #for getting method\n",
        "    def radius(self):  # Add a colon here\n",
        "        return self._radius\n",
        "\n",
        "    @radius.setter #setter method\n",
        "    def radius(self, value):\n",
        "        if value <= 0:\n",
        "            raise ValueError(\"Radius must be positive only\")\n",
        "\n",
        "        self._radius = value\n",
        "\n",
        "    @property\n",
        "    def area(self):\n",
        "        return 3.14 * self._radius ** 2\n",
        "\n",
        "radius = float(input(\"Enter the radius of the circle: \"))\n",
        "circle = Circle(radius)\n",
        "print(\"Radius:\", circle.radius)\n",
        "print(\"Area:\", circle.area)\n",
        "\n",
        "new_radius = float(input(\"Enter the new radius: \"))\n",
        "circle.radius = new_radius\n",
        "print(\"Radius:\", circle.radius)\n",
        "print(\"Area:\", circle.area)\n",
        "\n",
        "#try except, if else, input from user, getter&setter method, encapsulation - protected method, property(python)"
      ],
      "metadata": {
        "colab": {
          "base_uri": "https://localhost:8080/"
        },
        "id": "L5dKDSG1nNyj",
        "outputId": "fcb05aaa-df8c-47f8-c8b9-6b2a7d7f6273"
      },
      "execution_count": 47,
      "outputs": [
        {
          "output_type": "stream",
          "name": "stdout",
          "text": [
            "Enter the radius of the circle: 10\n",
            "Radius: 10.0\n",
            "Area: 314.0\n",
            "Enter the new radius: 20\n",
            "Radius: 20.0\n",
            "Area: 1256.0\n"
          ]
        }
      ]
    }
  ]
}