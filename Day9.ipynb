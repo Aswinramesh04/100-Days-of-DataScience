{
  "nbformat": 4,
  "nbformat_minor": 0,
  "metadata": {
    "colab": {
      "provenance": [],
      "authorship_tag": "ABX9TyMuomaZ5Xo174GAcMjUKUd2",
      "include_colab_link": true
    },
    "kernelspec": {
      "name": "python3",
      "display_name": "Python 3"
    },
    "language_info": {
      "name": "python"
    }
  },
  "cells": [
    {
      "cell_type": "markdown",
      "metadata": {
        "id": "view-in-github",
        "colab_type": "text"
      },
      "source": [
        "<a href=\"https://colab.research.google.com/github/Aswinramesh04/100-DaysOfCode-DataScience/blob/main/Day9.ipynb\" target=\"_parent\"><img src=\"https://colab.research.google.com/assets/colab-badge.svg\" alt=\"Open In Colab\"/></a>"
      ]
    },
    {
      "cell_type": "markdown",
      "source": [
        "                                 **Pandas Data Manipulation**  -- Loga Aswin"
      ],
      "metadata": {
        "id": "1-Uu4WG6yR39"
      }
    },
    {
      "cell_type": "code",
      "execution_count": 1,
      "metadata": {
        "id": "sGk2lNt1p44x"
      },
      "outputs": [],
      "source": [
        "import pandas as pd"
      ]
    },
    {
      "cell_type": "code",
      "source": [
        "# Sample data\n",
        "data = {'A': [1, 2, 3, 4, 5],\n",
        "        'B': ['chennai', 'chandigarh', 'delhi', 'coimbatore', 'kanpur']}\n",
        "df = pd.DataFrame(data)\n"
      ],
      "metadata": {
        "id": "yCvUr5LNyww_"
      },
      "execution_count": 3,
      "outputs": []
    },
    {
      "cell_type": "markdown",
      "source": [
        "**1. Filtering Data:**\n",
        "\n",
        "Filtering rows based on a condition."
      ],
      "metadata": {
        "id": "HgxO96FRzYUG"
      }
    },
    {
      "cell_type": "code",
      "source": [
        "filtered_df = df[df['A']>3]\n",
        "print(filtered_df)"
      ],
      "metadata": {
        "colab": {
          "base_uri": "https://localhost:8080/"
        },
        "id": "nogME038zbsF",
        "outputId": "d55b95f1-43c2-4a3e-9304-cd73cc139b95"
      },
      "execution_count": 5,
      "outputs": [
        {
          "output_type": "stream",
          "name": "stdout",
          "text": [
            "   A           B\n",
            "3  4  coimbatore\n",
            "4  5      kanpur\n"
          ]
        }
      ]
    },
    {
      "cell_type": "markdown",
      "source": [
        "**2. Selecting Columns:**\n",
        "\n",
        "Selecting specific columns from a DataFrame."
      ],
      "metadata": {
        "id": "ifavRtcuz6vI"
      }
    },
    {
      "cell_type": "code",
      "source": [
        "selected_columns = df[['A','B']]\n",
        "print(selected_columns)"
      ],
      "metadata": {
        "colab": {
          "base_uri": "https://localhost:8080/"
        },
        "id": "reCe8Q3Wz_yf",
        "outputId": "4bf76f70-963b-4dfc-f8fd-3ea745332a42"
      },
      "execution_count": 6,
      "outputs": [
        {
          "output_type": "stream",
          "name": "stdout",
          "text": [
            "   A           B\n",
            "0  1     chennai\n",
            "1  2  chandigarh\n",
            "2  3       delhi\n",
            "3  4  coimbatore\n",
            "4  5      kanpur\n"
          ]
        }
      ]
    },
    {
      "cell_type": "markdown",
      "source": [
        "**3.Sorting Data:**\n",
        "\n",
        "Sorting DataFrame by one or more columns."
      ],
      "metadata": {
        "id": "3-VIgOyF0WWj"
      }
    },
    {
      "cell_type": "code",
      "source": [
        "sorted_df = df.sort_values(by='A')\n",
        "print(sorted_df)"
      ],
      "metadata": {
        "colab": {
          "base_uri": "https://localhost:8080/"
        },
        "id": "rS18Syow0bi1",
        "outputId": "a32ad09d-6696-4eeb-c001-ab285a84e2b3"
      },
      "execution_count": 7,
      "outputs": [
        {
          "output_type": "stream",
          "name": "stdout",
          "text": [
            "   A           B\n",
            "0  1     chennai\n",
            "1  2  chandigarh\n",
            "2  3       delhi\n",
            "3  4  coimbatore\n",
            "4  5      kanpur\n"
          ]
        }
      ]
    },
    {
      "cell_type": "code",
      "source": [
        "#descing order\n",
        "sorted_df_desc = df.sort_values(by='A', ascending=False)\n",
        "print(sorted_df_desc)"
      ],
      "metadata": {
        "colab": {
          "base_uri": "https://localhost:8080/"
        },
        "id": "fl-kgEWq0_b2",
        "outputId": "98cc723d-297f-4f04-b0b6-fdaa84450a50"
      },
      "execution_count": 12,
      "outputs": [
        {
          "output_type": "stream",
          "name": "stdout",
          "text": [
            "   A           B\n",
            "4  5      kanpur\n",
            "3  4  coimbatore\n",
            "2  3       delhi\n",
            "1  2  chandigarh\n",
            "0  1     chennai\n"
          ]
        }
      ]
    },
    {
      "cell_type": "markdown",
      "source": [
        "**4. Aggregating Data:**\n",
        "\n",
        "Calculating summary statistics like mean, sum, count, etc."
      ],
      "metadata": {
        "id": "ElDltx_r29Ns"
      }
    },
    {
      "cell_type": "code",
      "source": [
        "mean_A = df['A'].mean()\n",
        "print(mean_A)"
      ],
      "metadata": {
        "colab": {
          "base_uri": "https://localhost:8080/"
        },
        "id": "oHfNYXx-12NK",
        "outputId": "89bcc624-0754-4e5c-c5c0-ae89a25bd5cd"
      },
      "execution_count": 13,
      "outputs": [
        {
          "output_type": "stream",
          "name": "stdout",
          "text": [
            "3.0\n"
          ]
        }
      ]
    },
    {
      "cell_type": "code",
      "source": [
        "value_counts_A = df['A'].value_counts()\n",
        "print(value_counts_A)"
      ],
      "metadata": {
        "colab": {
          "base_uri": "https://localhost:8080/"
        },
        "id": "7ddxttJI2LqI",
        "outputId": "09d93b55-f826-43ad-deac-751dbac252c4"
      },
      "execution_count": 14,
      "outputs": [
        {
          "output_type": "stream",
          "name": "stdout",
          "text": [
            "1    1\n",
            "2    1\n",
            "3    1\n",
            "4    1\n",
            "5    1\n",
            "Name: A, dtype: int64\n"
          ]
        }
      ]
    },
    {
      "cell_type": "markdown",
      "source": [
        "**5. Handling Missing Data:**\n",
        "\n",
        "Dealing with missing values in your DataFrame."
      ],
      "metadata": {
        "id": "LmCqQ8zB3B14"
      }
    },
    {
      "cell_type": "code",
      "source": [
        "# Sample data\n",
        "data_with_missing = {'A': [1, 2, None, 4, 5],\n",
        "        'B': ['chennai', 'chandigarh', None, 'coimbatore', 'kanpur']}\n",
        "df_misisng = pd.DataFrame(data_with_missing )\n",
        "\n",
        "df_no_missing = df_missing.dropna()\n",
        "print(df_no_missing)"
      ],
      "metadata": {
        "colab": {
          "base_uri": "https://localhost:8080/",
          "height": 227
        },
        "id": "HFSLEbGq3FIK",
        "outputId": "6f3e5f63-f78b-4594-eec0-db6f34f5ee4a"
      },
      "execution_count": 17,
      "outputs": [
        {
          "output_type": "error",
          "ename": "NameError",
          "evalue": "ignored",
          "traceback": [
            "\u001b[0;31m---------------------------------------------------------------------------\u001b[0m",
            "\u001b[0;31mNameError\u001b[0m                                 Traceback (most recent call last)",
            "\u001b[0;32m<ipython-input-17-74d144a194b5>\u001b[0m in \u001b[0;36m<cell line: 6>\u001b[0;34m()\u001b[0m\n\u001b[1;32m      4\u001b[0m \u001b[0mdf_misisng\u001b[0m \u001b[0;34m=\u001b[0m \u001b[0mpd\u001b[0m\u001b[0;34m.\u001b[0m\u001b[0mDataFrame\u001b[0m\u001b[0;34m(\u001b[0m\u001b[0mdata_with_missing\u001b[0m \u001b[0;34m)\u001b[0m\u001b[0;34m\u001b[0m\u001b[0;34m\u001b[0m\u001b[0m\n\u001b[1;32m      5\u001b[0m \u001b[0;34m\u001b[0m\u001b[0m\n\u001b[0;32m----> 6\u001b[0;31m \u001b[0mdf_no_missing\u001b[0m \u001b[0;34m=\u001b[0m \u001b[0mdf_missing\u001b[0m\u001b[0;34m.\u001b[0m\u001b[0mdropna\u001b[0m\u001b[0;34m(\u001b[0m\u001b[0;34m)\u001b[0m\u001b[0;34m\u001b[0m\u001b[0;34m\u001b[0m\u001b[0m\n\u001b[0m\u001b[1;32m      7\u001b[0m \u001b[0mprint\u001b[0m\u001b[0;34m(\u001b[0m\u001b[0mdf_no_missing\u001b[0m\u001b[0;34m)\u001b[0m\u001b[0;34m\u001b[0m\u001b[0;34m\u001b[0m\u001b[0m\n",
            "\u001b[0;31mNameError\u001b[0m: name 'df_missing' is not defined"
          ]
        }
      ]
    }
  ]
}