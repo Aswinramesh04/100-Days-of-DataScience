{
  "nbformat": 4,
  "nbformat_minor": 0,
  "metadata": {
    "colab": {
      "provenance": [],
      "authorship_tag": "ABX9TyO6TpIjoiDDPY/hCREjOMA3",
      "include_colab_link": true
    },
    "kernelspec": {
      "name": "python3",
      "display_name": "Python 3"
    },
    "language_info": {
      "name": "python"
    }
  },
  "cells": [
    {
      "cell_type": "markdown",
      "metadata": {
        "id": "view-in-github",
        "colab_type": "text"
      },
      "source": [
        "<a href=\"https://colab.research.google.com/github/Aswinramesh04/100-DaysOfCode-DataScience/blob/main/Day3.ipynb\" target=\"_parent\"><img src=\"https://colab.research.google.com/assets/colab-badge.svg\" alt=\"Open In Colab\"/></a>"
      ]
    },
    {
      "cell_type": "markdown",
      "source": [
        "                                                **Functions**   By: Loga Aswin\n",
        " * A function is a block of code that performs a specific task.                                               "
      ],
      "metadata": {
        "id": "ckwf5a6-uCRX"
      }
    },
    {
      "cell_type": "code",
      "execution_count": 3,
      "metadata": {
        "colab": {
          "base_uri": "https://localhost:8080/"
        },
        "id": "ogP0T3mjsQY9",
        "outputId": "630dcd20-5fe2-4d43-f0a1-d6ce355e9f19"
      },
      "outputs": [
        {
          "output_type": "stream",
          "name": "stdout",
          "text": [
            "Hi World\n"
          ]
        }
      ],
      "source": [
        "# user-defined function\n",
        "def hello():\n",
        "    print('Hi World')\n",
        "hello()    #function calling"
      ]
    },
    {
      "cell_type": "code",
      "source": [
        "# Function along parameter\n",
        "def addition(n1,n2):\n",
        "    print(n1+n2)\n",
        "addition(50,50)"
      ],
      "metadata": {
        "colab": {
          "base_uri": "https://localhost:8080/"
        },
        "id": "pob-KeYnu1uw",
        "outputId": "6b5a3708-278f-4338-ef9f-d70af24b9281"
      },
      "execution_count": 4,
      "outputs": [
        {
          "output_type": "stream",
          "name": "stdout",
          "text": [
            "100\n"
          ]
        }
      ]
    },
    {
      "cell_type": "markdown",
      "source": [
        "**Function return type**"
      ],
      "metadata": {
        "id": "0M0mBso7x4Hz"
      }
    },
    {
      "cell_type": "code",
      "source": [
        "# function\n",
        "def find_square(num):\n",
        "    result = num * num\n",
        "    return result\n",
        "#calling function\n",
        "square = find_square(10)\n",
        "\n",
        "print('Square:',square)"
      ],
      "metadata": {
        "colab": {
          "base_uri": "https://localhost:8080/"
        },
        "id": "51vHed1Su8el",
        "outputId": "b142eea1-4103-4cae-b274-c3bf6cf4d1e1"
      },
      "execution_count": 21,
      "outputs": [
        {
          "output_type": "stream",
          "name": "stdout",
          "text": [
            "square: 100\n"
          ]
        }
      ]
    },
    {
      "cell_type": "markdown",
      "source": [
        "**Types of Function Arguments:**\n",
        "\n",
        "\n",
        "1.   Default Arguments:\n",
        "\n"
      ],
      "metadata": {
        "id": "QuKC9VW2yM3K"
      }
    },
    {
      "cell_type": "code",
      "source": [
        "def add_numbers( a = 70,  b = 80):\n",
        "    sum = a + b\n",
        "    print('Sum:', sum)\n",
        "\n",
        "# two arguments\n",
        "add_numbers(2, 3)\n",
        "\n",
        "#No arguments\n",
        "add_numbers()"
      ],
      "metadata": {
        "colab": {
          "base_uri": "https://localhost:8080/"
        },
        "id": "RT8cUTw1xs33",
        "outputId": "7e30f259-b443-4aaf-b809-ff71e6d1c319"
      },
      "execution_count": 22,
      "outputs": [
        {
          "output_type": "stream",
          "name": "stdout",
          "text": [
            "Sum: 5\n",
            "Sum: 150\n"
          ]
        }
      ]
    },
    {
      "cell_type": "markdown",
      "source": [
        "2.   Keyword Arguments"
      ],
      "metadata": {
        "id": "TxravEj5y47N"
      }
    },
    {
      "cell_type": "code",
      "source": [
        "def show(first_name, last_name):\n",
        "    print('First Name:', first_name)\n",
        "    print('Last Name:', last_name)\n",
        "\n",
        "show(last_name = 'Aswin', first_name = 'Loga')"
      ],
      "metadata": {
        "colab": {
          "base_uri": "https://localhost:8080/"
        },
        "id": "aguX-YLfzKH4",
        "outputId": "36973655-8ea3-4390-c01e-afab28d67ccf"
      },
      "execution_count": 23,
      "outputs": [
        {
          "output_type": "stream",
          "name": "stdout",
          "text": [
            "First Name: Loga\n",
            "Last Name: Aswin\n"
          ]
        }
      ]
    },
    {
      "cell_type": "markdown",
      "source": [
        "3. Positional Arguments"
      ],
      "metadata": {
        "id": "iTkCZsNQzfNv"
      }
    },
    {
      "cell_type": "code",
      "source": [
        "def prints(age,name):\n",
        "    print(age,name)\n",
        "\n",
        "prints('Aswin',20)\n",
        "prints(20,'Aswin')"
      ],
      "metadata": {
        "colab": {
          "base_uri": "https://localhost:8080/"
        },
        "id": "f34Dqtw9zpFN",
        "outputId": "f2f019b9-2af1-433f-8b33-92cded10e929"
      },
      "execution_count": 25,
      "outputs": [
        {
          "output_type": "stream",
          "name": "stdout",
          "text": [
            "Aswin 20\n",
            "20 Aswin\n"
          ]
        }
      ]
    },
    {
      "cell_type": "markdown",
      "source": [
        "4. Arbitrary Arguments"
      ],
      "metadata": {
        "id": "v7XXz34Ez9EO"
      }
    },
    {
      "cell_type": "code",
      "source": [
        "#find sum of multiple numbers\n",
        "def find_sum(*numbers):\n",
        "    result = 0\n",
        "    for num in numbers:\n",
        "        result = result + num\n",
        "    print(\"Sum = \", result)\n",
        "\n",
        "find_sum(1, 2, 3)"
      ],
      "metadata": {
        "colab": {
          "base_uri": "https://localhost:8080/"
        },
        "id": "tQMh64Mp0MbP",
        "outputId": "71320f7f-3313-4a3f-af34-46d11d84a796"
      },
      "execution_count": 26,
      "outputs": [
        {
          "output_type": "stream",
          "name": "stdout",
          "text": [
            "Sum =  6\n"
          ]
        }
      ]
    },
    {
      "cell_type": "markdown",
      "source": [
        "**Python Recursion** :\n",
        "Recursion is the process of defining something in terms of itself."
      ],
      "metadata": {
        "id": "PRnVoZqC9jWd"
      }
    },
    {
      "cell_type": "code",
      "source": [
        "def factorial(x):\n",
        "    if x == 1:\n",
        "        return 1\n",
        "    else:\n",
        "        return (x * factorial(x-1))\n",
        "\n",
        "x = int(input(\"Enter the number:\"))\n",
        "print(\"The factorial is\", factorial(x))"
      ],
      "metadata": {
        "colab": {
          "base_uri": "https://localhost:8080/"
        },
        "id": "umAH6LsJ9m_D",
        "outputId": "dfcd821c-145d-4fc9-b079-0fa6b44b9809"
      },
      "execution_count": 27,
      "outputs": [
        {
          "output_type": "stream",
          "name": "stdout",
          "text": [
            "Enter the number:5\n",
            "The factorial is 120\n"
          ]
        }
      ]
    },
    {
      "cell_type": "code",
      "source": [
        "#python recursive pattern\n",
        "def row(n):\n",
        "    if n < 1:\n",
        "        return\n",
        "    print(\"*\", end=\" \")\n",
        "    row(n - 1)\n",
        "\n",
        "def pattern(n):\n",
        "    if n < 1:\n",
        "        return\n",
        "    row(n)\n",
        "    print(\"\")\n",
        "    pattern(n - 1)\n",
        "\n",
        "n = 5\n",
        "pattern(n)"
      ],
      "metadata": {
        "colab": {
          "base_uri": "https://localhost:8080/"
        },
        "id": "fB51DdK89uUo",
        "outputId": "a4059ba6-8a3b-4c75-f9bd-0520623b0e7e"
      },
      "execution_count": 28,
      "outputs": [
        {
          "output_type": "stream",
          "name": "stdout",
          "text": [
            "* * * * * \n",
            "* * * * \n",
            "* * * \n",
            "* * \n",
            "* \n"
          ]
        }
      ]
    }
  ]
}