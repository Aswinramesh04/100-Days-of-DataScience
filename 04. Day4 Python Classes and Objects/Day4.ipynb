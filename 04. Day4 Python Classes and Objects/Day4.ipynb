{
  "nbformat": 4,
  "nbformat_minor": 0,
  "metadata": {
    "colab": {
      "provenance": [],
      "authorship_tag": "ABX9TyPwoU7/aBC7p90IXgxHD0uY",
      "include_colab_link": true
    },
    "kernelspec": {
      "name": "python3",
      "display_name": "Python 3"
    },
    "language_info": {
      "name": "python"
    }
  },
  "cells": [
    {
      "cell_type": "markdown",
      "metadata": {
        "id": "view-in-github",
        "colab_type": "text"
      },
      "source": [
        "<a href=\"https://colab.research.google.com/github/Aswinramesh04/100-DaysOfCode-DataScience/blob/main/Day4.ipynb\" target=\"_parent\"><img src=\"https://colab.research.google.com/assets/colab-badge.svg\" alt=\"Open In Colab\"/></a>"
      ]
    },
    {
      "cell_type": "markdown",
      "source": [
        "                      **Python Objects and Classes**    By: Loga Aswin\n",
        "Python classes:\n",
        " A class is a blueprint or a template for creating objects.                       "
      ],
      "metadata": {
        "id": "74onC0ncVCYo"
      }
    },
    {
      "cell_type": "code",
      "execution_count": null,
      "metadata": {
        "id": "YYFSjM6HSssv"
      },
      "outputs": [],
      "source": [
        "#name of the class\n",
        "class Car:\n",
        "    name = \"\"   #defining class\n",
        "    gear = 0"
      ]
    },
    {
      "cell_type": "markdown",
      "source": [
        "Python Objects:\n",
        "An object is called an instance of a class"
      ],
      "metadata": {
        "id": "ciloxC5tYa9D"
      }
    },
    {
      "cell_type": "markdown",
      "source": [
        "For example: Car is class . So, we take Car1,Car2 as objects"
      ],
      "metadata": {
        "id": "bz8QQFy9YlK8"
      }
    },
    {
      "cell_type": "code",
      "source": [
        "# create class\n",
        "class Car:\n",
        "    name = \"\"\n",
        "    gear = 0\n",
        "\n",
        "# create objects of class\n",
        "Car1 = Car()"
      ],
      "metadata": {
        "id": "29bbG8RWYUWj"
      },
      "execution_count": 1,
      "outputs": []
    },
    {
      "cell_type": "markdown",
      "source": [
        "Example Python program of Class and Objects"
      ],
      "metadata": {
        "id": "txtyGZToZHKp"
      }
    },
    {
      "cell_type": "code",
      "source": [
        "# define a class\n",
        "class Car:\n",
        "  name = \"\"\n",
        "  gear = 0\n",
        "\n",
        "# create object of class\n",
        "Car1 = Car()\n",
        "\n",
        "# access attributes and assign new values\n",
        "Car1.gear = 11\n",
        "Car1.name = \"Mountain Bike\"\n",
        "\n",
        "print(f\"Name: {Car1.name}, Gears: {Car1.gear} \")"
      ],
      "metadata": {
        "colab": {
          "base_uri": "https://localhost:8080/"
        },
        "id": "GZTYqTIwZFaa",
        "outputId": "052a3f92-d21c-43e0-aaab-69f624014f9e"
      },
      "execution_count": 3,
      "outputs": [
        {
          "output_type": "stream",
          "name": "stdout",
          "text": [
            "Name: Mountain Bike, Gears: 11 \n"
          ]
        }
      ]
    },
    {
      "cell_type": "markdown",
      "source": [
        "**Python Constructors**"
      ],
      "metadata": {
        "id": "hnpZA9NxZte7"
      }
    },
    {
      "cell_type": "code",
      "source": [
        "class person:\n",
        "  def __init__(self, name, age):\n",
        "    self.name = name\n",
        "    self.age = age\n",
        "person1 = person(\"Aswin\",20)    #creating a person object\n",
        "print(f\"Name: {person1.name}\")\n",
        "print(f\"Age: {person1.age}\")\n"
      ],
      "metadata": {
        "id": "6S-_tXCQZvOQ"
      },
      "execution_count": null,
      "outputs": []
    },
    {
      "cell_type": "markdown",
      "source": [
        "**Destructor**"
      ],
      "metadata": {
        "id": "bThz196I_UA8"
      }
    },
    {
      "cell_type": "code",
      "source": [
        "class MyClass:\n",
        "    def __init__(self, name):\n",
        "        self.name = name\n",
        "\n",
        "    def __del__(self):\n",
        "        print(f\"{self.name} is being destroyed!\")\n",
        "\n",
        "# Creating objects\n",
        "obj1 = MyClass(\"Object 1\")\n",
        "obj2 = MyClass(\"Object 2\")\n",
        "\n",
        "# Deleting references to objects\n",
        "del obj1\n",
        "del obj2\n"
      ],
      "metadata": {
        "colab": {
          "base_uri": "https://localhost:8080/"
        },
        "id": "240FfVUy_W88",
        "outputId": "308697e0-6e83-48dd-8fda-e23a73b72202"
      },
      "execution_count": 1,
      "outputs": [
        {
          "output_type": "stream",
          "name": "stdout",
          "text": [
            "Object 1 is being destroyed!\n",
            "Object 2 is being destroyed!\n"
          ]
        }
      ]
    },
    {
      "cell_type": "markdown",
      "source": [
        "**Class and Static Variable**"
      ],
      "metadata": {
        "id": "Gaq9iAGlIk1Y"
      }
    },
    {
      "cell_type": "code",
      "source": [
        "#Class and Static Variables:\n",
        "class Voter:\n",
        "    # Class variable for voting age\n",
        "    voting_age = 18\n",
        "\n",
        "    # Class variable to keep track of the total number of voters\n",
        "    num_voters = 0\n"
      ],
      "metadata": {
        "id": "ULgjXWgXI-aT"
      },
      "execution_count": 2,
      "outputs": []
    },
    {
      "cell_type": "code",
      "source": [
        "#Class and Static Methods:\n",
        "class Voter:\n",
        "    voting_age = 18\n",
        "    num_voters = 0\n",
        "\n",
        "    def __init__(self, age):\n",
        "        self.age = age\n",
        "        Voter.num_voters += 1\n",
        "\n",
        "    @staticmethod\n",
        "    def is_eligible(age):\n",
        "        return age >= Voter.voting_age\n",
        "\n",
        "    @classmethod\n",
        "    def get_total_voters(cls):\n",
        "        return cls.num_voters\n",
        "\n",
        "    def check_eligibility(self):\n",
        "        if Voter.is_eligible(self.age):\n",
        "            print(f\"You are eligible to vote at age {self.age}.\")\n",
        "        else:\n",
        "            print(f\"Sorry, you are not eligible to vote at age {self.age}.\")\n",
        "\n",
        "\n",
        "# Create voter instances\n",
        "voter1 = Voter(20)\n",
        "voter2 = Voter(16)\n",
        "voter3 = Voter(25)\n",
        "\n",
        "# Check eligibility and total voters\n",
        "voter1.check_eligibility()  # Output: You are eligible to vote at age 20.\n",
        "voter2.check_eligibility()  # Output: Sorry, you are not eligible to vote at age 16.\n",
        "voter3.check_eligibility()  # Output: You are eligible to vote at age 25.\n",
        "print(f\"Total voters: {Voter.get_total_voters()}\")  # Output: Total voters: 3\n"
      ],
      "metadata": {
        "colab": {
          "base_uri": "https://localhost:8080/"
        },
        "id": "CVc-YKTNI4Oy",
        "outputId": "43d6a4ed-1b1a-42dc-ee3b-7115c4d388eb"
      },
      "execution_count": 5,
      "outputs": [
        {
          "output_type": "stream",
          "name": "stdout",
          "text": [
            "You are eligible to vote at age 20.\n",
            "Sorry, you are not eligible to vote at age 16.\n",
            "You are eligible to vote at age 25.\n",
            "Total voters: 3\n"
          ]
        }
      ]
    }
  ]
}