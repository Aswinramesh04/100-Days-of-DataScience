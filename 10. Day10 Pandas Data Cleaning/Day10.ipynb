{
  "nbformat": 4,
  "nbformat_minor": 0,
  "metadata": {
    "colab": {
      "provenance": [],
      "authorship_tag": "ABX9TyMje0lQ9HTSRM7Max6ky6oi",
      "include_colab_link": true
    },
    "kernelspec": {
      "name": "python3",
      "display_name": "Python 3"
    },
    "language_info": {
      "name": "python"
    }
  },
  "cells": [
    {
      "cell_type": "markdown",
      "metadata": {
        "id": "view-in-github",
        "colab_type": "text"
      },
      "source": [
        "<a href=\"https://colab.research.google.com/github/Aswinramesh04/100-DaysOfCode-DataScience/blob/main/Day10.ipynb\" target=\"_parent\"><img src=\"https://colab.research.google.com/assets/colab-badge.svg\" alt=\"Open In Colab\"/></a>"
      ]
    },
    {
      "cell_type": "markdown",
      "source": [
        "                             **Data Cleaning**             -- Loga Aswin"
      ],
      "metadata": {
        "id": "IU_Bhzwj52aZ"
      }
    },
    {
      "cell_type": "markdown",
      "source": [
        "**Data Cleaning**"
      ],
      "metadata": {
        "id": "WDLBxXak8Sen"
      }
    },
    {
      "cell_type": "code",
      "execution_count": 3,
      "metadata": {
        "id": "PypkBGNy5y_U"
      },
      "outputs": [],
      "source": [
        "import pandas as pd\n",
        "\n",
        "data = {'A': [10, 20, None, 30, 40],\n",
        "        'B': [None, 'chennai', 'coimbatore', 'london', 'america']}\n",
        "\n",
        "df = pd.DataFrame(data)\n"
      ]
    },
    {
      "cell_type": "code",
      "source": [
        "print(df)"
      ],
      "metadata": {
        "colab": {
          "base_uri": "https://localhost:8080/"
        },
        "id": "e1ChO-E89fmR",
        "outputId": "8a6cc4c6-911a-4b70-cfd0-351b202140a9"
      },
      "execution_count": 4,
      "outputs": [
        {
          "output_type": "stream",
          "name": "stdout",
          "text": [
            "      A           B\n",
            "0  10.0        None\n",
            "1  20.0     chennai\n",
            "2   NaN  coimbatore\n",
            "3  30.0      london\n",
            "4  40.0     america\n"
          ]
        }
      ]
    },
    {
      "cell_type": "markdown",
      "source": [
        "**1. Handling Missing Values:**\n",
        "\n",
        "Dropping rows or columns with missing values:"
      ],
      "metadata": {
        "id": "IA3cRCnV-Dsj"
      }
    },
    {
      "cell_type": "code",
      "source": [
        "clean_df = df.dropna()\n",
        "print(clean_df)"
      ],
      "metadata": {
        "colab": {
          "base_uri": "https://localhost:8080/"
        },
        "id": "CuaJCLfP9lLT",
        "outputId": "cb7dd3b1-f0fb-4253-9115-0e01ea5d3164"
      },
      "execution_count": 6,
      "outputs": [
        {
          "output_type": "stream",
          "name": "stdout",
          "text": [
            "      A        B\n",
            "1  20.0  chennai\n",
            "3  30.0   london\n",
            "4  40.0  america\n"
          ]
        }
      ]
    },
    {
      "cell_type": "code",
      "source": [
        "clean_df = df.dropna(axis=1)\n",
        "print(clean_df)"
      ],
      "metadata": {
        "colab": {
          "base_uri": "https://localhost:8080/"
        },
        "id": "ap6q0gPk-F1n",
        "outputId": "8a4ec087-2d28-4630-c1c0-3519b9787301"
      },
      "execution_count": 7,
      "outputs": [
        {
          "output_type": "stream",
          "name": "stdout",
          "text": [
            "Empty DataFrame\n",
            "Columns: []\n",
            "Index: [0, 1, 2, 3, 4]\n"
          ]
        }
      ]
    },
    {
      "cell_type": "code",
      "source": [
        "# filling missing value of A with the mean of the columns\n",
        " df['A'].fillna(df['A'].mean(), inplace=True)\n",
        "print(df)"
      ],
      "metadata": {
        "colab": {
          "base_uri": "https://localhost:8080/"
        },
        "id": "vhvIQ8Oc-STM",
        "outputId": "b6c3f336-ea14-4d1f-a385-e13dcd92c7e8"
      },
      "execution_count": 8,
      "outputs": [
        {
          "output_type": "stream",
          "name": "stdout",
          "text": [
            "      A           B\n",
            "0  10.0        None\n",
            "1  20.0     chennai\n",
            "2  25.0  coimbatore\n",
            "3  30.0      london\n",
            "4  40.0     america\n"
          ]
        }
      ]
    },
    {
      "cell_type": "markdown",
      "source": [
        "**2. Removing Duplicates:**\n",
        "\n",
        "Removing duplicate rows:"
      ],
      "metadata": {
        "id": "ImPuRV0D_0HX"
      }
    },
    {
      "cell_type": "code",
      "source": [
        "x1 = df.drop_duplicates()\n",
        "print(x1)"
      ],
      "metadata": {
        "colab": {
          "base_uri": "https://localhost:8080/"
        },
        "id": "IlXcjpgs_MQ6",
        "outputId": "fe50d831-9092-472d-c56b-b93cb75396d5"
      },
      "execution_count": 11,
      "outputs": [
        {
          "output_type": "stream",
          "name": "stdout",
          "text": [
            "      A           B\n",
            "0  10.0        None\n",
            "1  20.0     chennai\n",
            "2  25.0  coimbatore\n",
            "3  30.0      london\n",
            "4  40.0     america\n"
          ]
        }
      ]
    },
    {
      "cell_type": "code",
      "source": [
        "# Sample data\n",
        "data = {'A' : [10,20,30,40,50]}\n",
        "df = pd.DataFrame(data)\n",
        "\n",
        "print(df)"
      ],
      "metadata": {
        "colab": {
          "base_uri": "https://localhost:8080/"
        },
        "id": "1NOpIG_5AkkZ",
        "outputId": "ea8a81b1-5b70-4a73-fb08-3e5102afee6c"
      },
      "execution_count": 13,
      "outputs": [
        {
          "output_type": "stream",
          "name": "stdout",
          "text": [
            "    A\n",
            "0  10\n",
            "1  20\n",
            "2  30\n",
            "3  40\n",
            "4  50\n"
          ]
        }
      ]
    },
    {
      "cell_type": "markdown",
      "source": [
        "**3. Data Type Conversion:**\n",
        "\n",
        "Converting data types:"
      ],
      "metadata": {
        "id": "Y_KLXuAHDSQJ"
      }
    },
    {
      "cell_type": "code",
      "source": [
        "df['A'] = df['A'].astype(int)\n",
        "print(df)"
      ],
      "metadata": {
        "colab": {
          "base_uri": "https://localhost:8080/"
        },
        "id": "qxSBhbqYDM6V",
        "outputId": "26bc3bce-1f13-4dc7-ec11-1a91af42ba0b"
      },
      "execution_count": 18,
      "outputs": [
        {
          "output_type": "stream",
          "name": "stdout",
          "text": [
            "    A\n",
            "0  10\n",
            "1  20\n",
            "2  30\n",
            "3  40\n",
            "4  50\n"
          ]
        }
      ]
    },
    {
      "cell_type": "markdown",
      "source": [
        "**4.String Cleaning:**"
      ],
      "metadata": {
        "id": "J5_wCgMpDsVp"
      }
    },
    {
      "cell_type": "code",
      "source": [
        "data = {'A': [1, 2, 3, 4, 5],\n",
        "        'B': [' apple ', 'banana', 'cherry ', 'date', ' elderberry ']}\n",
        "df = pd.DataFrame(data)\n",
        "\n",
        "df['B'] = df['B'].str.strip()\n",
        "print(df)\n"
      ],
      "metadata": {
        "colab": {
          "base_uri": "https://localhost:8080/"
        },
        "id": "rYj4hc3CDVHb",
        "outputId": "ca336c18-f31d-4e0e-8b13-46c87291c9f7"
      },
      "execution_count": 20,
      "outputs": [
        {
          "output_type": "stream",
          "name": "stdout",
          "text": [
            "   A           B\n",
            "0  1       apple\n",
            "1  2      banana\n",
            "2  3      cherry\n",
            "3  4        date\n",
            "4  5  elderberry\n"
          ]
        }
      ]
    },
    {
      "cell_type": "code",
      "source": [
        "# # Convert 'B' column to lowercase\n",
        "df['B'] = df['B'].str.lower()\n",
        "print(df)"
      ],
      "metadata": {
        "colab": {
          "base_uri": "https://localhost:8080/"
        },
        "id": "StDVtFDcDvOf",
        "outputId": "e8ebbf53-f82b-4463-f766-fa04f091f889"
      },
      "execution_count": 22,
      "outputs": [
        {
          "output_type": "stream",
          "name": "stdout",
          "text": [
            "   A           B\n",
            "0  1       apple\n",
            "1  2      banana\n",
            "2  3      cherry\n",
            "3  4        date\n",
            "4  5  elderberry\n"
          ]
        }
      ]
    },
    {
      "cell_type": "markdown",
      "source": [
        "**6. Removing Irrelevant Columns:**"
      ],
      "metadata": {
        "id": "qPdzxmDNEJvB"
      }
    },
    {
      "cell_type": "code",
      "source": [
        "# Sample\n",
        "data = {'A': [1, 2, 3, 4, 5],\n",
        "        'B': ['apple', 'banana', 'cherry', 'date', 'chocolate'],\n",
        "        'C': [10, 20, 30, 40, 50]}\n",
        "df = pd.DataFrame(data)\n",
        "\n",
        "# Remove the 'C' column\n",
        "df.drop('C', axis=1, inplace=True)\n",
        "print(df)\n"
      ],
      "metadata": {
        "colab": {
          "base_uri": "https://localhost:8080/"
        },
        "id": "aAh54o62D4GN",
        "outputId": "a4c63db4-d148-4197-c057-824f6424b0be"
      },
      "execution_count": 23,
      "outputs": [
        {
          "output_type": "stream",
          "name": "stdout",
          "text": [
            "   A          B\n",
            "0  1      apple\n",
            "1  2     banana\n",
            "2  3     cherry\n",
            "3  4       date\n",
            "4  5  chocolate\n"
          ]
        }
      ]
    },
    {
      "cell_type": "code",
      "source": [
        "# Replace the element\n",
        "df['B'] = df['B'].replace('cherry', 'orange')\n",
        "print(df)"
      ],
      "metadata": {
        "colab": {
          "base_uri": "https://localhost:8080/"
        },
        "id": "jRSgEC6PERY-",
        "outputId": "2f25ffb3-1390-4c00-a9ad-b3d42acb7931"
      },
      "execution_count": 24,
      "outputs": [
        {
          "output_type": "stream",
          "name": "stdout",
          "text": [
            "   A          B\n",
            "0  1      apple\n",
            "1  2     banana\n",
            "2  3     orange\n",
            "3  4       date\n",
            "4  5  chocolate\n"
          ]
        }
      ]
    },
    {
      "cell_type": "markdown",
      "source": [
        " **Data transformation**"
      ],
      "metadata": {
        "id": "TFIXN2RlFL6m"
      }
    },
    {
      "cell_type": "code",
      "source": [
        "#apply()\n",
        "data = {'A': [10, 20, 30, 40, 50]}\n",
        "df = pd.DataFrame(data)\n",
        "\n",
        "def double_value(x):\n",
        "    return x * 2\n",
        "\n",
        "df['A_doubled'] = df['A'].apply(double_value)\n",
        "print(df)\n"
      ],
      "metadata": {
        "colab": {
          "base_uri": "https://localhost:8080/"
        },
        "id": "NwT1bGQNFF03",
        "outputId": "7538d8d7-1997-433f-9afd-441c0cdb4741"
      },
      "execution_count": 27,
      "outputs": [
        {
          "output_type": "stream",
          "name": "stdout",
          "text": [
            "    A  A_doubled\n",
            "0  10         20\n",
            "1  20         40\n",
            "2  30         60\n",
            "3  40         80\n",
            "4  50        100\n"
          ]
        }
      ]
    },
    {
      "cell_type": "code",
      "source": [
        "# map()\n",
        "data = {'Category': ['A', 'B', 'A', 'C', 'B']}\n",
        "df = pd.DataFrame(data)\n",
        "\n",
        "category_mapping = {'A': 1, 'B': 2, 'C': 3}\n",
        "\n",
        "df['Category_Num'] = df['Category'].map(category_mapping)\n",
        "print(df)\n"
      ],
      "metadata": {
        "colab": {
          "base_uri": "https://localhost:8080/"
        },
        "id": "X-ETWSJ_FZ94",
        "outputId": "be53c057-6e27-45ec-a439-81439845f583"
      },
      "execution_count": 28,
      "outputs": [
        {
          "output_type": "stream",
          "name": "stdout",
          "text": [
            "  Category  Category_Num\n",
            "0        A             1\n",
            "1        B             2\n",
            "2        A             1\n",
            "3        C             3\n",
            "4        B             2\n"
          ]
        }
      ]
    },
    {
      "cell_type": "code",
      "source": [
        "# applymap()\n",
        "data = {'A': [1, 2, 3],\n",
        "        'B': [4, 5, 6]}\n",
        "df = pd.DataFrame(data)\n",
        "\n",
        "def square(x):\n",
        "    return x ** 2\n",
        "\n",
        "df_squared = df.applymap(square)\n",
        "print(df_squared)\n"
      ],
      "metadata": {
        "colab": {
          "base_uri": "https://localhost:8080/"
        },
        "id": "gjFhYP-EFi-4",
        "outputId": "dff40887-ecbf-43b5-a63e-bd071b1eb2b6"
      },
      "execution_count": 31,
      "outputs": [
        {
          "output_type": "stream",
          "name": "stdout",
          "text": [
            "   A   B\n",
            "0  1  16\n",
            "1  4  25\n",
            "2  9  36\n"
          ]
        }
      ]
    }
  ]
}