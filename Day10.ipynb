{
  "nbformat": 4,
  "nbformat_minor": 0,
  "metadata": {
    "colab": {
      "provenance": [],
      "authorship_tag": "ABX9TyN/8yWmwQHKpRkc5QmtxNan",
      "include_colab_link": true
    },
    "kernelspec": {
      "name": "python3",
      "display_name": "Python 3"
    },
    "language_info": {
      "name": "python"
    }
  },
  "cells": [
    {
      "cell_type": "markdown",
      "metadata": {
        "id": "view-in-github",
        "colab_type": "text"
      },
      "source": [
        "<a href=\"https://colab.research.google.com/github/Aswinramesh04/100-Days-of-DataScience/blob/main/Day10.ipynb\" target=\"_parent\"><img src=\"https://colab.research.google.com/assets/colab-badge.svg\" alt=\"Open In Colab\"/></a>"
      ]
    },
    {
      "cell_type": "code",
      "execution_count": null,
      "metadata": {
        "id": "kK4ofao4IWVG"
      },
      "outputs": [],
      "source": [
        "map(), filter(), reduce() - built-in function"
      ]
    },
    {
      "cell_type": "code",
      "source": [
        "my_num = [1,2,3,4,5]\n",
        "\n",
        "def double(num):\n",
        "  for i in num:\n",
        "    print(i*i)\n",
        "\n",
        "result = double(my_num)\n",
        "#using loop"
      ],
      "metadata": {
        "colab": {
          "base_uri": "https://localhost:8080/"
        },
        "id": "RHsAoliVIkEP",
        "outputId": "6eeb627c-9340-4a92-dc24-84bcee0acf9e"
      },
      "execution_count": null,
      "outputs": [
        {
          "output_type": "stream",
          "name": "stdout",
          "text": [
            "1\n",
            "4\n",
            "9\n",
            "16\n",
            "25\n"
          ]
        }
      ]
    },
    {
      "cell_type": "code",
      "source": [
        "my_num = [1,2,3,4,5]\n",
        "\n",
        "def double(num):\n",
        "  return num + num\n",
        "result = list(map(double, my_num)) #my_num - iterative\n",
        "print(result)\n",
        "#provides new collections,\n",
        "#does not modify\n",
        "# this function works for each element.\n",
        "#direct built-in function."
      ],
      "metadata": {
        "colab": {
          "base_uri": "https://localhost:8080/"
        },
        "id": "xEhtR-3iKiij",
        "outputId": "d6acdef2-1036-4aef-e09a-53f65bf8ea60"
      },
      "execution_count": null,
      "outputs": [
        {
          "output_type": "stream",
          "name": "stdout",
          "text": [
            "[2, 4, 6, 8, 10]\n"
          ]
        }
      ]
    },
    {
      "cell_type": "code",
      "source": [
        "lambda(a function easy to write) - Name different but easy concept only"
      ],
      "metadata": {
        "id": "1Xhg0MRfTaKk"
      },
      "execution_count": null,
      "outputs": []
    },
    {
      "cell_type": "code",
      "source": [
        "Not compulsory to learn but just know it\n",
        "they might ask in interview\n",
        "so that company knows that , he knows some shortcutkeys\n",
        "so he can develop program, easily"
      ],
      "metadata": {
        "id": "KSO7UBGKTDQk"
      },
      "execution_count": null,
      "outputs": []
    },
    {
      "cell_type": "code",
      "source": [
        "def add(x,y):\n",
        "  return x+y\n",
        "print(add(1,3))"
      ],
      "metadata": {
        "colab": {
          "base_uri": "https://localhost:8080/"
        },
        "id": "jfoq1bSkR9NW",
        "outputId": "e6d641c7-0605-4e87-c92d-2b8ca56bc528"
      },
      "execution_count": null,
      "outputs": [
        {
          "output_type": "stream",
          "name": "stdout",
          "text": [
            "4\n"
          ]
        }
      ]
    },
    {
      "cell_type": "code",
      "source": [
        "a = lambda x,y: x+y\n",
        "print(a(1,3))"
      ],
      "metadata": {
        "colab": {
          "base_uri": "https://localhost:8080/"
        },
        "id": "wcDvCs1-SJez",
        "outputId": "4c9952d6-cb78-4d29-b006-3ab5476fe634"
      },
      "execution_count": null,
      "outputs": [
        {
          "output_type": "stream",
          "name": "stdout",
          "text": [
            "4\n"
          ]
        }
      ]
    },
    {
      "cell_type": "code",
      "source": [
        "lambda techniques- AWS lambda product - serverless code"
      ],
      "metadata": {
        "id": "Q72WnbZ6TuhB"
      },
      "execution_count": null,
      "outputs": []
    },
    {
      "cell_type": "code",
      "source": [
        "my_num = [1, 2, 3, 4, 5]\n",
        "even_numbers = []\n",
        "\n",
        "for i in my_num:\n",
        "  if i % 2 == 0:\n",
        "    even_numbers.append(i)\n",
        "\n",
        "print(even_numbers)"
      ],
      "metadata": {
        "colab": {
          "base_uri": "https://localhost:8080/"
        },
        "id": "0FSA6zAXWPHc",
        "outputId": "fd6c0b81-4211-422e-9e68-a1379aab5dcc"
      },
      "execution_count": null,
      "outputs": [
        {
          "output_type": "stream",
          "name": "stdout",
          "text": [
            "[2, 4]\n"
          ]
        }
      ]
    },
    {
      "cell_type": "code",
      "source": [
        "def find_even_numbers(num_list):\n",
        "\n",
        "  even_numbers = []\n",
        "  for num in num_list:\n",
        "    if num % 2 == 0:\n",
        "      even_numbers.append(num)\n",
        "  return even_numbers\n",
        "\n",
        "my_num = [1, 2, 3, 4, 5]\n",
        "even_result = find_even_numbers(my_num)\n",
        "print(even_result)\n"
      ],
      "metadata": {
        "id": "kpyJ8jtRWyX0"
      },
      "execution_count": null,
      "outputs": []
    },
    {
      "cell_type": "code",
      "source": [
        "#just it particularly selects, it filters\n",
        "my_num = [1,2,3,4,5]\n",
        "filter_result = list(filter(lambda x : x%2==0, my_num))\n",
        "print(filter_result)"
      ],
      "metadata": {
        "colab": {
          "base_uri": "https://localhost:8080/"
        },
        "id": "Po_iAiYWMaeY",
        "outputId": "e743b5a6-713a-4876-cfdf-a0d818785b6d"
      },
      "execution_count": null,
      "outputs": [
        {
          "output_type": "stream",
          "name": "stdout",
          "text": [
            "[2, 4]\n"
          ]
        }
      ]
    },
    {
      "cell_type": "code",
      "source": [
        "my_num = [1, 2, 3, 4, 5]\n",
        "result = 0\n",
        "\n",
        "for i in my_num:\n",
        "  result += i\n",
        "\n",
        "print(result)"
      ],
      "metadata": {
        "colab": {
          "base_uri": "https://localhost:8080/"
        },
        "id": "QfymY1s4X01p",
        "outputId": "aa9d9ec2-a9a9-45fe-e349-6536a0b5500c"
      },
      "execution_count": null,
      "outputs": [
        {
          "output_type": "stream",
          "name": "stdout",
          "text": [
            "15\n"
          ]
        }
      ]
    },
    {
      "cell_type": "code",
      "source": [
        "#reducing works only it does\n",
        "from functools import reduce\n",
        "my_num = [1,2,3,4,5]\n",
        "reduce_result = reduce(lambda x, y: x+y, my_num)\n",
        "print(reduce_result)"
      ],
      "metadata": {
        "colab": {
          "base_uri": "https://localhost:8080/"
        },
        "id": "s-DVemJrN3bh",
        "outputId": "769ca069-3cee-4905-bc20-28de317bf993"
      },
      "execution_count": null,
      "outputs": [
        {
          "output_type": "stream",
          "name": "stdout",
          "text": [
            "15\n"
          ]
        }
      ]
    },
    {
      "cell_type": "code",
      "source": [
        "my_num = [1,2,3,4,5]\n",
        "\n",
        "# def double(num):\n",
        "#   return num + num\n",
        "result = list(map(lambda x: x*x, my_num)) #my_num - iterative\n",
        "print(result)"
      ],
      "metadata": {
        "colab": {
          "base_uri": "https://localhost:8080/"
        },
        "id": "IaeLHc3INpu8",
        "outputId": "6ed6b648-c7b1-4fc7-c8a0-2770505764f5"
      },
      "execution_count": null,
      "outputs": [
        {
          "output_type": "stream",
          "name": "stdout",
          "text": [
            "[1, 4, 9, 16, 25]\n"
          ]
        }
      ]
    },
    {
      "cell_type": "code",
      "source": [
        "# Python Json\n",
        "import json\n",
        "\n",
        "# some JSON:\n",
        "x =  '{ \"name\":\"John\", \"age\":30, \"city\":\"New York\"}'\n",
        "\n",
        "# parse x:\n",
        "y = json.loads(x)\n",
        "\n",
        "# the result is a Python dictionary:\n",
        "print(y[\"age\"])\n",
        "#you can access the key value pair & full data also\n",
        "\n",
        "#loads- from json formatted string to data types like dictionary & access it"
      ],
      "metadata": {
        "colab": {
          "base_uri": "https://localhost:8080/"
        },
        "id": "PWgvDCTdYLqe",
        "outputId": "944e74a4-efa3-4e85-cb20-aa34da7dc5a0"
      },
      "execution_count": null,
      "outputs": [
        {
          "output_type": "stream",
          "name": "stdout",
          "text": [
            "30\n"
          ]
        }
      ]
    },
    {
      "cell_type": "code",
      "source": [
        "import json\n",
        "\n",
        "# a Python object (dict):\n",
        "x = {\n",
        "  \"name\": \"John\",\n",
        "  \"age\": 30,\n",
        "  \"city\": \"New York\"\n",
        "}\n",
        "\n",
        "# convert into JSON:\n",
        "y = json.dumps(x)\n",
        "\n",
        "# the result is a JSON string:\n",
        "print(y)\n",
        "#only you can acces the full data\n",
        "#conversion - like from list\n",
        "# dumps from python objects like list / dict to json formatted strings"
      ],
      "metadata": {
        "colab": {
          "base_uri": "https://localhost:8080/"
        },
        "id": "3eWrrhcEZjTi",
        "outputId": "907acbaa-0027-4efb-b524-83b60e00b31e"
      },
      "execution_count": null,
      "outputs": [
        {
          "output_type": "stream",
          "name": "stdout",
          "text": [
            "{\"name\": \"John\", \"age\": 30, \"city\": \"New York\"}\n"
          ]
        }
      ]
    },
    {
      "cell_type": "code",
      "source": [
        "import json\n",
        "\n",
        "# Python list\n",
        "python_list = [1, 2, 3, 4, 5]\n",
        "\n",
        "# Convert the Python list into a JSON-formatted string\n",
        "json_list_string = json.dumps(python_list)\n",
        "\n",
        "print(json_list_string)  # Output: '[1, 2, 3, 4, 5]'\n",
        "print(type(json_list_string))  # Output: <class 'str'>\n"
      ],
      "metadata": {
        "colab": {
          "base_uri": "https://localhost:8080/"
        },
        "id": "a4nNPyFObK4B",
        "outputId": "b6fccea8-95b0-40e4-b958-3daffdf5052f"
      },
      "execution_count": null,
      "outputs": [
        {
          "output_type": "stream",
          "name": "stdout",
          "text": [
            "[1, 2, 3, 4, 5]\n",
            "<class 'str'>\n"
          ]
        }
      ]
    },
    {
      "cell_type": "code",
      "source": [
        "import json\n",
        "\n",
        "# JSON string representing a list\n",
        "json_list_string = '[1, 2, 3, 4, 5]'\n",
        "\n",
        "# Parse the JSON string into a Python list\n",
        "python_list = json.loads(json_list_string)\n",
        "\n",
        "print(python_list)  # Output: [1, 2, 3, 4, 5]\n",
        "print(type(python_list))  # Output: <class 'list'>\n"
      ],
      "metadata": {
        "colab": {
          "base_uri": "https://localhost:8080/"
        },
        "id": "FBJ1vaOnbWct",
        "outputId": "b48dc41e-3b05-4dc7-f862-499f140a5794"
      },
      "execution_count": null,
      "outputs": [
        {
          "output_type": "stream",
          "name": "stdout",
          "text": [
            "[1, 2, 3, 4, 5]\n",
            "<class 'list'>\n"
          ]
        }
      ]
    },
    {
      "cell_type": "code",
      "source": [
        "def fun(a,b):\n",
        "  c = a+b\n",
        "  print(c)\n",
        "\n",
        "fun(10,20)"
      ],
      "metadata": {
        "colab": {
          "base_uri": "https://localhost:8080/"
        },
        "id": "g6tHyCPwch_z",
        "outputId": "2d7de460-6796-4520-affe-45409cad129e"
      },
      "execution_count": null,
      "outputs": [
        {
          "output_type": "stream",
          "name": "stdout",
          "text": [
            "30\n"
          ]
        }
      ]
    },
    {
      "cell_type": "code",
      "source": [
        "def func(*args):\n",
        "  sum = 0\n",
        "  for i in args:\n",
        "    sum+=i\n",
        "  print(sum)\n",
        "\n",
        "func(100,200,300)"
      ],
      "metadata": {
        "colab": {
          "base_uri": "https://localhost:8080/"
        },
        "id": "U2BMIL4ybaL7",
        "outputId": "84cac43f-5f52-4bec-8b67-522c36b376ab"
      },
      "execution_count": null,
      "outputs": [
        {
          "output_type": "stream",
          "name": "stdout",
          "text": [
            "600\n"
          ]
        }
      ]
    },
    {
      "cell_type": "code",
      "source": [
        "def print_values(**kwargs):\n",
        "    for key, value in kwargs.items():\n",
        "        print(f\"{key}: {value}\")\n",
        "\n",
        "# Using the function with keyword arguments\n",
        "print_values(name=\"John\", age=30, city=\"New York\")\n",
        "print_values(name=\"John\", age=35, city=\"New York\", salary = 10)\n"
      ],
      "metadata": {
        "colab": {
          "base_uri": "https://localhost:8080/"
        },
        "id": "3yqXKVGudaVr",
        "outputId": "65a585d3-442b-4871-c40f-d24293fd5034"
      },
      "execution_count": null,
      "outputs": [
        {
          "output_type": "stream",
          "name": "stdout",
          "text": [
            "name: John\n",
            "age: 30\n",
            "city: New York\n",
            "name: John\n",
            "age: 35\n",
            "city: New York\n",
            "salary: 10\n"
          ]
        }
      ]
    },
    {
      "cell_type": "code",
      "source": [
        "def print_person_info(name, age, city):\n",
        "    print(f\"Name: {name}\")\n",
        "    print(f\"Age: {age}\")\n",
        "    print(f\"City: {city}\")\n",
        "\n",
        "# Using the function with positional arguments\n",
        "print_person_info(\"John\", 30, \"New York\")\n"
      ],
      "metadata": {
        "colab": {
          "base_uri": "https://localhost:8080/"
        },
        "id": "MaCg9AiLdhWE",
        "outputId": "36a5cec9-7466-4223-dc18-f1b04dfec999"
      },
      "execution_count": null,
      "outputs": [
        {
          "output_type": "stream",
          "name": "stdout",
          "text": [
            "Name: John\n",
            "Age: 30\n",
            "City: New York\n"
          ]
        }
      ]
    }
  ]
}