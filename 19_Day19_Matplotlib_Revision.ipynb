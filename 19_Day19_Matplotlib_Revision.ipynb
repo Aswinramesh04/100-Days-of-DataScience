{
  "nbformat": 4,
  "nbformat_minor": 0,
  "metadata": {
    "colab": {
      "provenance": [],
      "authorship_tag": "ABX9TyP4Y4hm9rsx5mw4kMu0m0Xo",
      "include_colab_link": true
    },
    "kernelspec": {
      "name": "python3",
      "display_name": "Python 3"
    },
    "language_info": {
      "name": "python"
    }
  },
  "cells": [
    {
      "cell_type": "markdown",
      "metadata": {
        "id": "view-in-github",
        "colab_type": "text"
      },
      "source": [
        "<a href=\"https://colab.research.google.com/github/Aswinramesh04/100-DaysOfCode-DataScience/blob/main/19_Day19_Matplotlib_Revision.ipynb\" target=\"_parent\"><img src=\"https://colab.research.google.com/assets/colab-badge.svg\" alt=\"Open In Colab\"/></a>"
      ]
    },
    {
      "cell_type": "markdown",
      "source": [
        "**Matplotlib Revision**"
      ],
      "metadata": {
        "id": "Pu0S5Su_r1NS"
      }
    },
    {
      "cell_type": "code",
      "execution_count": null,
      "metadata": {
        "id": "tYibCnjxrdAp"
      },
      "outputs": [],
      "source": []
    }
  ]
}