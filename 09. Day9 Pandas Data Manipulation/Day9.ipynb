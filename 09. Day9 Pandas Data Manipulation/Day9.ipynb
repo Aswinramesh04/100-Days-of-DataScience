{
  "nbformat": 4,
  "nbformat_minor": 0,
  "metadata": {
    "colab": {
      "provenance": [],
      "authorship_tag": "ABX9TyO8IXUviFH58XEkUK0CbuQq",
      "include_colab_link": true
    },
    "kernelspec": {
      "name": "python3",
      "display_name": "Python 3"
    },
    "language_info": {
      "name": "python"
    }
  },
  "cells": [
    {
      "cell_type": "markdown",
      "metadata": {
        "id": "view-in-github",
        "colab_type": "text"
      },
      "source": [
        "<a href=\"https://colab.research.google.com/github/Aswinramesh04/100-DaysOfCode-DataScience/blob/main/Day9.ipynb\" target=\"_parent\"><img src=\"https://colab.research.google.com/assets/colab-badge.svg\" alt=\"Open In Colab\"/></a>"
      ]
    },
    {
      "cell_type": "markdown",
      "source": [
        "                                 **Pandas Data Manipulation**  -- Loga Aswin"
      ],
      "metadata": {
        "id": "1-Uu4WG6yR39"
      }
    },
    {
      "cell_type": "code",
      "execution_count": 1,
      "metadata": {
        "id": "sGk2lNt1p44x"
      },
      "outputs": [],
      "source": [
        "import pandas as pd"
      ]
    },
    {
      "cell_type": "code",
      "source": [
        "# Sample data\n",
        "data = {'A': [1, 2, 3, 4, 5],\n",
        "        'B': ['chennai', 'chandigarh', 'delhi', 'coimbatore', 'kanpur']}\n",
        "df = pd.DataFrame(data)\n"
      ],
      "metadata": {
        "id": "yCvUr5LNyww_"
      },
      "execution_count": 3,
      "outputs": []
    },
    {
      "cell_type": "markdown",
      "source": [
        "**1. Filtering Data:**\n",
        "\n",
        "Filtering rows based on a condition."
      ],
      "metadata": {
        "id": "HgxO96FRzYUG"
      }
    },
    {
      "cell_type": "code",
      "source": [
        "filtered_df = df[df['A']>3]\n",
        "print(filtered_df)"
      ],
      "metadata": {
        "colab": {
          "base_uri": "https://localhost:8080/"
        },
        "id": "nogME038zbsF",
        "outputId": "d55b95f1-43c2-4a3e-9304-cd73cc139b95"
      },
      "execution_count": 5,
      "outputs": [
        {
          "output_type": "stream",
          "name": "stdout",
          "text": [
            "   A           B\n",
            "3  4  coimbatore\n",
            "4  5      kanpur\n"
          ]
        }
      ]
    },
    {
      "cell_type": "markdown",
      "source": [
        "**2. Selecting Columns:**\n",
        "\n",
        "Selecting specific columns from a DataFrame."
      ],
      "metadata": {
        "id": "ifavRtcuz6vI"
      }
    },
    {
      "cell_type": "code",
      "source": [
        "selected_columns = df[['A','B']]\n",
        "print(selected_columns)"
      ],
      "metadata": {
        "colab": {
          "base_uri": "https://localhost:8080/"
        },
        "id": "reCe8Q3Wz_yf",
        "outputId": "4bf76f70-963b-4dfc-f8fd-3ea745332a42"
      },
      "execution_count": 6,
      "outputs": [
        {
          "output_type": "stream",
          "name": "stdout",
          "text": [
            "   A           B\n",
            "0  1     chennai\n",
            "1  2  chandigarh\n",
            "2  3       delhi\n",
            "3  4  coimbatore\n",
            "4  5      kanpur\n"
          ]
        }
      ]
    },
    {
      "cell_type": "markdown",
      "source": [
        "**3.Sorting Data:**\n",
        "\n",
        "Sorting DataFrame by one or more columns."
      ],
      "metadata": {
        "id": "3-VIgOyF0WWj"
      }
    },
    {
      "cell_type": "code",
      "source": [
        "sorted_df = df.sort_values(by='A')\n",
        "print(sorted_df)"
      ],
      "metadata": {
        "colab": {
          "base_uri": "https://localhost:8080/"
        },
        "id": "rS18Syow0bi1",
        "outputId": "a32ad09d-6696-4eeb-c001-ab285a84e2b3"
      },
      "execution_count": 7,
      "outputs": [
        {
          "output_type": "stream",
          "name": "stdout",
          "text": [
            "   A           B\n",
            "0  1     chennai\n",
            "1  2  chandigarh\n",
            "2  3       delhi\n",
            "3  4  coimbatore\n",
            "4  5      kanpur\n"
          ]
        }
      ]
    },
    {
      "cell_type": "code",
      "source": [
        "#descing order\n",
        "sorted_df_desc = df.sort_values(by='A', ascending=False)\n",
        "print(sorted_df_desc)"
      ],
      "metadata": {
        "colab": {
          "base_uri": "https://localhost:8080/"
        },
        "id": "fl-kgEWq0_b2",
        "outputId": "98cc723d-297f-4f04-b0b6-fdaa84450a50"
      },
      "execution_count": 12,
      "outputs": [
        {
          "output_type": "stream",
          "name": "stdout",
          "text": [
            "   A           B\n",
            "4  5      kanpur\n",
            "3  4  coimbatore\n",
            "2  3       delhi\n",
            "1  2  chandigarh\n",
            "0  1     chennai\n"
          ]
        }
      ]
    },
    {
      "cell_type": "markdown",
      "source": [
        "**4. Aggregating Data:**\n",
        "\n",
        "Calculating summary statistics like mean, sum, count, etc."
      ],
      "metadata": {
        "id": "ElDltx_r29Ns"
      }
    },
    {
      "cell_type": "code",
      "source": [
        "mean_A = df['A'].mean()\n",
        "print(mean_A)"
      ],
      "metadata": {
        "colab": {
          "base_uri": "https://localhost:8080/"
        },
        "id": "oHfNYXx-12NK",
        "outputId": "89bcc624-0754-4e5c-c5c0-ae89a25bd5cd"
      },
      "execution_count": 13,
      "outputs": [
        {
          "output_type": "stream",
          "name": "stdout",
          "text": [
            "3.0\n"
          ]
        }
      ]
    },
    {
      "cell_type": "code",
      "source": [
        "value_counts_A = df['A'].value_counts()\n",
        "print(value_counts_A)"
      ],
      "metadata": {
        "colab": {
          "base_uri": "https://localhost:8080/"
        },
        "id": "7ddxttJI2LqI",
        "outputId": "09d93b55-f826-43ad-deac-751dbac252c4"
      },
      "execution_count": 14,
      "outputs": [
        {
          "output_type": "stream",
          "name": "stdout",
          "text": [
            "1    1\n",
            "2    1\n",
            "3    1\n",
            "4    1\n",
            "5    1\n",
            "Name: A, dtype: int64\n"
          ]
        }
      ]
    },
    {
      "cell_type": "markdown",
      "source": [
        "**5. Handling Missing Data:**\n",
        "\n",
        "Dealing with missing values in your DataFrame."
      ],
      "metadata": {
        "id": "LmCqQ8zB3B14"
      }
    },
    {
      "cell_type": "code",
      "source": [
        "# Sample data\n",
        "data_with_missing = {'A': [1, 2, None, 4, 5],\n",
        "        'B': ['chennai', 'chandigarh', None, 'coimbatore', 'kanpur']}\n",
        "df_missing = pd.DataFrame(data_with_missing )\n",
        "\n",
        "df_no_missing = df_missing.dropna()\n",
        "print(df_no_missing)"
      ],
      "metadata": {
        "colab": {
          "base_uri": "https://localhost:8080/"
        },
        "id": "HFSLEbGq3FIK",
        "outputId": "05bed49a-8888-41a9-8e3e-d03ef162cf1b"
      },
      "execution_count": 18,
      "outputs": [
        {
          "output_type": "stream",
          "name": "stdout",
          "text": [
            "     A           B\n",
            "0  1.0     chennai\n",
            "1  2.0  chandigarh\n",
            "3  4.0  coimbatore\n",
            "4  5.0      kanpur\n"
          ]
        }
      ]
    },
    {
      "cell_type": "code",
      "source": [
        "# Create two DataFrames\n",
        "df1 = pd.DataFrame({'key': ['A', 'B', 'C'], 'value1': [10, 20, 30]})\n",
        "df2 = pd.DataFrame({'key': ['B', 'C', 'D'], 'value2': [40, 50, 60]})\n",
        "\n",
        "# Merge based on 'key' column\n",
        "merged_df = pd.merge(df1, df2, on='key', how='inner')\n",
        "print(merged_df)\n"
      ],
      "metadata": {
        "colab": {
          "base_uri": "https://localhost:8080/"
        },
        "id": "es-34AIu7rYa",
        "outputId": "8edbec1a-4aaf-4c28-e03f-b61702786170"
      },
      "execution_count": 21,
      "outputs": [
        {
          "output_type": "stream",
          "name": "stdout",
          "text": [
            "  key  value1  value2\n",
            "0   B      20      40\n",
            "1   C      30      50\n"
          ]
        }
      ]
    },
    {
      "cell_type": "markdown",
      "source": [
        "**7. Grouping and Aggregating Data:**\n",
        "\n",
        "Grouping data by one or more columns and applying aggregate functions.\n"
      ],
      "metadata": {
        "id": "X6WEw4x68LJF"
      }
    },
    {
      "cell_type": "code",
      "source": [
        "# Group by 'B' and calculate the sum of 'A' for each group\n",
        "grouped_df = df.groupby('B')['A'].sum().reset_index()\n",
        "print(grouped_df)\n"
      ],
      "metadata": {
        "colab": {
          "base_uri": "https://localhost:8080/"
        },
        "id": "8f1TO9af8FMn",
        "outputId": "84804a34-5100-4f43-93e8-08326c9c86c6"
      },
      "execution_count": 22,
      "outputs": [
        {
          "output_type": "stream",
          "name": "stdout",
          "text": [
            "            B  A\n",
            "0  chandigarh  2\n",
            "1     chennai  1\n",
            "2  coimbatore  4\n",
            "3       delhi  3\n",
            "4      kanpur  5\n"
          ]
        }
      ]
    },
    {
      "cell_type": "markdown",
      "source": [
        "**8. Pivot Tables:**\n",
        "\n",
        "Creating pivot tables to summarize and reshape data."
      ],
      "metadata": {
        "id": "ZYymmxax8Rga"
      }
    },
    {
      "cell_type": "code",
      "source": [
        "# Create a pivot table to show the mean 'A' for each 'B' category\n",
        "pivot_table = df.pivot_table(values='A', index='B', aggfunc='mean')\n",
        "print(pivot_table)\n"
      ],
      "metadata": {
        "colab": {
          "base_uri": "https://localhost:8080/"
        },
        "id": "UG-sgAd18WUy",
        "outputId": "fd06e2e4-06d7-4274-d9d0-5359ea9aef70"
      },
      "execution_count": 23,
      "outputs": [
        {
          "output_type": "stream",
          "name": "stdout",
          "text": [
            "            A\n",
            "B            \n",
            "chandigarh  2\n",
            "chennai     1\n",
            "coimbatore  4\n",
            "delhi       3\n",
            "kanpur      5\n"
          ]
        }
      ]
    },
    {
      "cell_type": "markdown",
      "source": [
        "**9. Combining Data:**\n",
        "\n",
        "Concatenating or appending multiple DataFrames vertically or horizontally."
      ],
      "metadata": {
        "id": "F88Z5sg18W-c"
      }
    },
    {
      "cell_type": "code",
      "source": [
        "# Concatenate two DataFrames vertically\n",
        "df_concatenated = pd.concat([df1, df2], axis=0)\n",
        "print(df_concatenated)\n",
        "\n",
        "# Append one DataFrame to another\n",
        "df_appended = df1.append(df2, ignore_index=True)\n",
        "print(df_appended)\n"
      ],
      "metadata": {
        "colab": {
          "base_uri": "https://localhost:8080/"
        },
        "id": "3wRVzK8H8fOc",
        "outputId": "47d486ea-ad4a-4b3c-b877-ea1dd06c0146"
      },
      "execution_count": 24,
      "outputs": [
        {
          "output_type": "stream",
          "name": "stdout",
          "text": [
            "  key  value1  value2\n",
            "0   A    10.0     NaN\n",
            "1   B    20.0     NaN\n",
            "2   C    30.0     NaN\n",
            "0   B     NaN    40.0\n",
            "1   C     NaN    50.0\n",
            "2   D     NaN    60.0\n",
            "  key  value1  value2\n",
            "0   A    10.0     NaN\n",
            "1   B    20.0     NaN\n",
            "2   C    30.0     NaN\n",
            "3   B     NaN    40.0\n",
            "4   C     NaN    50.0\n",
            "5   D     NaN    60.0\n"
          ]
        },
        {
          "output_type": "stream",
          "name": "stderr",
          "text": [
            "<ipython-input-24-4a3f35d8737e>:6: FutureWarning: The frame.append method is deprecated and will be removed from pandas in a future version. Use pandas.concat instead.\n",
            "  df_appended = df1.append(df2, ignore_index=True)\n"
          ]
        }
      ]
    },
    {
      "cell_type": "markdown",
      "source": [
        "**Applying function to the data**"
      ],
      "metadata": {
        "id": "1W3AhCw88nGK"
      }
    },
    {
      "cell_type": "code",
      "source": [
        "def square(x):\n",
        "    return x ** 2\n",
        "\n",
        "# Apply the custom function to 'A' column\n",
        "df['A_squared'] = df['A'].apply(square)\n",
        "print(df)"
      ],
      "metadata": {
        "colab": {
          "base_uri": "https://localhost:8080/"
        },
        "id": "26b6tgMv8ltT",
        "outputId": "404cbeec-89f4-4126-9af4-6340efd81931"
      },
      "execution_count": 25,
      "outputs": [
        {
          "output_type": "stream",
          "name": "stdout",
          "text": [
            "   A           B  A_squared\n",
            "0  1     chennai          1\n",
            "1  2  chandigarh          4\n",
            "2  3       delhi          9\n",
            "3  4  coimbatore         16\n",
            "4  5      kanpur         25\n"
          ]
        }
      ]
    }
  ]
}