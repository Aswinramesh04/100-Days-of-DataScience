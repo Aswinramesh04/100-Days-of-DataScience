{
  "nbformat": 4,
  "nbformat_minor": 0,
  "metadata": {
    "colab": {
      "provenance": [],
      "authorship_tag": "ABX9TyO2O2VRiNtLxRpRgWETkKcz",
      "include_colab_link": true
    },
    "kernelspec": {
      "name": "python3",
      "display_name": "Python 3"
    },
    "language_info": {
      "name": "python"
    }
  },
  "cells": [
    {
      "cell_type": "markdown",
      "metadata": {
        "id": "view-in-github",
        "colab_type": "text"
      },
      "source": [
        "<a href=\"https://colab.research.google.com/github/Aswinramesh04/100-DaysOfCode-DataScience/blob/main/Day7.ipynb\" target=\"_parent\"><img src=\"https://colab.research.google.com/assets/colab-badge.svg\" alt=\"Open In Colab\"/></a>"
      ]
    },
    {
      "cell_type": "markdown",
      "source": [
        "                          **Numpy Random**   -- Loga Aswin"
      ],
      "metadata": {
        "id": "KvpIF1pmJR1R"
      }
    },
    {
      "cell_type": "markdown",
      "source": [
        "*   x1: rand() method returns random float between 0 and 1.\n",
        "*   x2: Generate a 1-D array containing 5 random floats.\n",
        "*   x3: The choice() method allows you to generate a random value based on an array values.\n",
        "*   x4: It Add a size parameter to specify the shape of the array.\n",
        "*   x5: Generate a random integer from 0 to 100.\n",
        "\n",
        "\n",
        "\n",
        "\n",
        "\n",
        "\n",
        "\n"
      ],
      "metadata": {
        "id": "7mZ56F66JbFQ"
      }
    },
    {
      "cell_type": "code",
      "source": [
        "from numpy import random\n",
        "x1 = random.rand()\n",
        "x2 = random.rand(5)\n",
        "x3 = random.choice([30, 50, 70, 90])\n",
        "x4 = random.choice([3, 5, 7, 9], size=(3, 5))\n",
        "x5 = random.randint(100)\n",
        "\n",
        "print(x1)\n",
        "print(x2)\n",
        "print(x3)\n",
        "print(x4)\n",
        "print(x5)"
      ],
      "metadata": {
        "colab": {
          "base_uri": "https://localhost:8080/"
        },
        "id": "006dhDBcGZP_",
        "outputId": "0e1a6669-e109-43ba-aca9-29f53811408a"
      },
      "execution_count": 6,
      "outputs": [
        {
          "output_type": "stream",
          "name": "stdout",
          "text": [
            "0.13820129237038392\n",
            "[0.76354128 0.01584953 0.08124561 0.85109117 0.91806927]\n",
            "70\n",
            "[[3 9 5 7 5]\n",
            " [3 5 7 9 7]\n",
            " [3 5 5 3 7]]\n",
            "61\n"
          ]
        }
      ]
    },
    {
      "cell_type": "markdown",
      "source": [
        "**Normal (Gaussian) Distribution**"
      ],
      "metadata": {
        "id": "mhvbMZ_uNmak"
      }
    },
    {
      "cell_type": "code",
      "source": [
        "from numpy import random\n",
        "\n",
        "y1 = random.normal(loc=1, scale=2, size=(2, 3))\n",
        "y2 = random.binomial(n=10, p=0.5, size=10)\n",
        "y3 = random.poisson(lam=2, size=10)\n",
        "y4 = random.uniform(size=(2, 3))\n",
        "y5 = random.logistic(loc=1, scale=2, size=(2, 3))\n",
        "\n",
        "print(y1)\n",
        "print(\"-------\")\n",
        "print(y2)\n",
        "print(\"-------\")\n",
        "print(y3)\n",
        "print(\"-------\")\n",
        "print(y4)\n",
        "print(\"-------\")\n",
        "print(y5)"
      ],
      "metadata": {
        "colab": {
          "base_uri": "https://localhost:8080/"
        },
        "id": "vzzcEfeINoq4",
        "outputId": "df8c0df4-91ff-4165-c6d7-5d92c371de40"
      },
      "execution_count": 9,
      "outputs": [
        {
          "output_type": "stream",
          "name": "stdout",
          "text": [
            "[[ 2.05122837 -1.20356308 -1.86465255]\n",
            " [-2.73234004 -2.17302964  0.80542822]]\n",
            "-------\n",
            "[6 4 2 4 4 5 4 5 6 2]\n",
            "-------\n",
            "[2 3 1 2 0 3 2 4 4 1]\n",
            "-------\n",
            "[[0.70879667 0.38334544 0.66772007]\n",
            " [0.33991473 0.07322236 0.35158152]]\n",
            "-------\n",
            "[[-1.46178484 -1.62906308  3.90145538]\n",
            " [ 0.73980143 -0.49227035 -6.73411556]]\n"
          ]
        }
      ]
    },
    {
      "cell_type": "markdown",
      "source": [
        "**Visualization of Distribution**"
      ],
      "metadata": {
        "id": "WJG5ReH8ORzM"
      }
    },
    {
      "cell_type": "code",
      "source": [
        "from numpy import random\n",
        "import matplotlib.pyplot as plt\n",
        "import seaborn as sns\n",
        "\n",
        "# Create subplots to display the distributions using Seaborn\n",
        "plt.figure(figsize=(12,12))\n",
        "\n",
        "# Normal distribution\n",
        "plt.subplot(331)\n",
        "sns.distplot(random.normal(size=1000), hist=False)\n",
        "plt.title('Normal Distribution')\n",
        "\n",
        "# Binomial distribution\n",
        "plt.subplot(332)\n",
        "sns.distplot(random.binomial(n=10, p=0.5, size=1000), hist=True, kde=False)\n",
        "plt.title('Binomial Distribution')\n",
        "\n",
        "# Poisson distribution\n",
        "plt.subplot(333)\n",
        "sns.distplot(random.poisson(lam=2, size=1000), kde=False)\n",
        "plt.title('Poisson distribution')"
      ],
      "metadata": {
        "colab": {
          "base_uri": "https://localhost:8080/",
          "height": 944
        },
        "id": "YOPFRBEWOUit",
        "outputId": "a74fa2bb-8bef-4cd6-b73f-1579335bdc2b"
      },
      "execution_count": 16,
      "outputs": [
        {
          "output_type": "stream",
          "name": "stderr",
          "text": [
            "<ipython-input-16-4d5058743e32>:10: UserWarning: \n",
            "\n",
            "`distplot` is a deprecated function and will be removed in seaborn v0.14.0.\n",
            "\n",
            "Please adapt your code to use either `displot` (a figure-level function with\n",
            "similar flexibility) or `kdeplot` (an axes-level function for kernel density plots).\n",
            "\n",
            "For a guide to updating your code to use the new functions, please see\n",
            "https://gist.github.com/mwaskom/de44147ed2974457ad6372750bbe5751\n",
            "\n",
            "  sns.distplot(random.normal(size=1000), hist=False)\n",
            "<ipython-input-16-4d5058743e32>:15: UserWarning: \n",
            "\n",
            "`distplot` is a deprecated function and will be removed in seaborn v0.14.0.\n",
            "\n",
            "Please adapt your code to use either `displot` (a figure-level function with\n",
            "similar flexibility) or `histplot` (an axes-level function for histograms).\n",
            "\n",
            "For a guide to updating your code to use the new functions, please see\n",
            "https://gist.github.com/mwaskom/de44147ed2974457ad6372750bbe5751\n",
            "\n",
            "  sns.distplot(random.binomial(n=10, p=0.5, size=1000), hist=True, kde=False)\n",
            "<ipython-input-16-4d5058743e32>:20: UserWarning: \n",
            "\n",
            "`distplot` is a deprecated function and will be removed in seaborn v0.14.0.\n",
            "\n",
            "Please adapt your code to use either `displot` (a figure-level function with\n",
            "similar flexibility) or `histplot` (an axes-level function for histograms).\n",
            "\n",
            "For a guide to updating your code to use the new functions, please see\n",
            "https://gist.github.com/mwaskom/de44147ed2974457ad6372750bbe5751\n",
            "\n",
            "  sns.distplot(random.poisson(lam=2, size=1000), kde=False)\n"
          ]
        },
        {
          "output_type": "execute_result",
          "data": {
            "text/plain": [
              "Text(0.5, 1.0, 'Poisson distribution')"
            ]
          },
          "metadata": {},
          "execution_count": 16
        },
        {
          "output_type": "display_data",
          "data": {
            "text/plain": [
              "<Figure size 1200x1200 with 3 Axes>"
            ],
            "image/png": "[encoded data removed]"
          },
          "metadata": {}
        }
      ]
    },
    {
      "cell_type": "markdown",
      "source": [
        "**NumPy Universal Functions**"
      ],
      "metadata": {
        "id": "xKT6ArM5QXwQ"
      }
    },
    {
      "cell_type": "code",
      "source": [
        "arr1 = np.array([1, 2, 3, 4, 5, 6])\n",
        "arr2 = np.array([20, 21, 22, 23, 24, 25])\n",
        "\n",
        "new1 = np.add(arr1, arr2)\n",
        "new2 = np.subtract(arr1, arr2)\n",
        "new3 = np.multiply(arr1, arr2)\n",
        "new4 = np.divide(arr1, arr2)\n",
        "new5 = np.power(arr1, arr2)\n",
        "new6 = np.mod(arr1, arr2)\n",
        "new7 = np.remainder(arr1, arr2)\n",
        "\n",
        "print(new1)\n",
        "print(new2)\n",
        "print(new3)\n",
        "print(new4)\n",
        "print(new5)\n",
        "print(new6)\n",
        "print(new7)"
      ],
      "metadata": {
        "colab": {
          "base_uri": "https://localhost:8080/"
        },
        "id": "fna_DSpcQZV7",
        "outputId": "a87fa6d0-d1d8-40ec-f476-72a405a310f9"
      },
      "execution_count": 22,
      "outputs": [
        {
          "output_type": "stream",
          "name": "stdout",
          "text": [
            "[21 23 25 27 29 31]\n",
            "[-19 -19 -19 -19 -19 -19]\n",
            "[ 20  42  66  92 120 150]\n",
            "[0.05       0.0952381  0.13636364 0.17391304 0.20833333 0.24      ]\n",
            "[                   1              2097152          31381059609\n",
            "       70368744177664    59604644775390625 -8463200117489401856]\n",
            "[1 2 3 4 5 6]\n",
            "[1 2 3 4 5 6]\n"
          ]
        }
      ]
    },
    {
      "cell_type": "code",
      "source": [
        "import numpy as np\n",
        "\n",
        "arr = np.array([-10, -20, 10, 20, 30, -40])\n",
        "new9 = np.absolute(arr)\n",
        "\n",
        "print(new9)"
      ],
      "metadata": {
        "colab": {
          "base_uri": "https://localhost:8080/"
        },
        "id": "a1NTMRP5RJr1",
        "outputId": "c759a1ec-0951-4331-8034-c854e1344b60"
      },
      "execution_count": 25,
      "outputs": [
        {
          "output_type": "stream",
          "name": "stdout",
          "text": [
            "[10 20 10 20 30 40]\n"
          ]
        }
      ]
    },
    {
      "cell_type": "markdown",
      "source": [
        "**Rounding Decimals**"
      ],
      "metadata": {
        "id": "0ZDZjXW-RRTi"
      }
    },
    {
      "cell_type": "code",
      "source": [
        "#ways of rounding decimals\n",
        "arr1 = np.fix([-3.1786, 3.6667])\n",
        "arr2 = np.around(3.1996, 2)\n",
        "arr3 = np.floor([-3.1966, 3.6667])\n",
        "arr4 = np.ceil([-3.1566, 3.6667])\n",
        "\n",
        "print(arr1)\n",
        "print(arr2)\n",
        "print(arr3)\n",
        "print(arr4)\n"
      ],
      "metadata": {
        "colab": {
          "base_uri": "https://localhost:8080/"
        },
        "id": "oboK3wIgRTBI",
        "outputId": "e126eec0-11f8-48d8-fcb0-57018528ba0f"
      },
      "execution_count": 27,
      "outputs": [
        {
          "output_type": "stream",
          "name": "stdout",
          "text": [
            "[-3.  3.]\n",
            "3.2\n",
            "[-4.  3.]\n",
            "[-3.  4.]\n"
          ]
        }
      ]
    }
  ]
}