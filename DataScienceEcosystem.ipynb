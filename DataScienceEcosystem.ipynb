{
  "nbformat": 4,
  "nbformat_minor": 0,
  "metadata": {
    "colab": {
      "provenance": [],
      "authorship_tag": "ABX9TyNPAncaFGOr5zy7JIvQK2df",
      "include_colab_link": true
    },
    "kernelspec": {
      "name": "python3",
      "display_name": "Python 3"
    },
    "language_info": {
      "name": "python"
    }
  },
  "cells": [
    {
      "cell_type": "markdown",
      "metadata": {
        "id": "view-in-github",
        "colab_type": "text"
      },
      "source": [
        "<a href=\"https://colab.research.google.com/github/Aswinramesh04/100-DaysOfCode-DataScience/blob/main/DataScienceEcosystem.ipynb\" target=\"_parent\"><img src=\"https://colab.research.google.com/assets/colab-badge.svg\" alt=\"Open In Colab\"/></a>"
      ]
    },
    {
      "cell_type": "markdown",
      "source": [
        "**Assignment Topic:**"
      ],
      "metadata": {
        "id": "j6DAVW3yB0pB"
      }
    },
    {
      "cell_type": "markdown",
      "source": [
        "Guidelines for the submission:\n",
        "\n",
        "There are a total of 25 points possible for this final project.\n",
        "I hope I will succeed, based on the following Exercises:\n",
        "Exercise 2 - Create a markdown cell with the title of the notebook. (1 pt)\n",
        "Exercise 3 - Create a markdown cell for an introduction. (1 pt)\n",
        "Exercise 4 - Create a markdown cell to list data science languages. (3 pts)\n",
        "Exercise 5 - Create a markdown cell to list data science libraries. (3 pts)\n",
        "Exercise 6 - Create a markdown cell with a table of Data Science tools. (3 pts)\n",
        "Exercise 7 - Create a markdown cell introducing arithmetic expression examples. (1 pt)\n",
        "Exercise 8 - Create a code cell to multiply and add numbers.(2 pts)\n",
        "Exercise 9 - Create a code cell to convert minutes to hours. (2 pts)\n",
        "Exercise 10 -Insert a markdown cell to list Objectives. (3 pts)\n",
        "Exercise 11 - Create a markdown cell to indicate the Author’s name. (2 pts)\n",
        "Exercise 12 - Share your notebook through GitHub (3 pts)\n",
        "Exercise 13 - Take a screenshot of the first page of the notebook. (1 pt)"
      ],
      "metadata": {
        "id": "kQC1xabEB6av"
      }
    },
    {
      "cell_type": "markdown",
      "source": [
        "Exercise 1: Create a Jupyter Notebook\n",
        "\n",
        "Create a new Jupyter notebook called DataScienceEcosystem.ipynb\n",
        "\n",
        "Exercise 2: Create markdown cell with title of the notebook\n",
        "\n",
        "Create a markdown cell with the title Data Science Tools and Ecosystem using H1 style heading.\n",
        "Take a screenshot of the markdown cell and name it as 2-title.png (Images can be saved with either the .jpg or .png extension.)\n",
        "\n",
        "Exercise 3 - Create a markdown cell for an introduction\n",
        "\n",
        "In this notebook, Data Science Tools and Ecosystem are summarized.\n",
        "\n",
        "Objectives:\n",
        "\n",
        "List popular languages that Data Scientists use.\n",
        "List commonly used libraries used by Data Scientists.\n",
        "Comment on Data Science tools.\n",
        "\n"
      ],
      "metadata": {
        "id": "_K90KpqPCuut"
      }
    },
    {
      "cell_type": "markdown",
      "source": [
        "Exercise 4 - Create a markdown cell to list data science languages\n",
        "\n",
        "Some of the popular languages that Data Scientists use are:\n",
        "\n",
        "Python.\n",
        "R.\n",
        "SQL.\n",
        "Java.\n",
        "Julia.\n",
        "Scala.\n",
        "C/C++.\n",
        "JavaScript."
      ],
      "metadata": {
        "id": "1v_iP_MqDGQy"
      }
    },
    {
      "cell_type": "markdown",
      "source": [
        "Exercise 5 - Create a markdown cell to list data science libraries. (3 pts)\n",
        "\n",
        "Some of the commonly used libraries used by Data Scientists include:\n",
        "\n",
        "TensorFlow.\n",
        "NumPy.\n",
        "SciPy.\n",
        "Pandas.\n",
        "Matplotlib.\n",
        "Keras.\n",
        "SciKit-Learn.\n",
        "PyTorch.\n",
        "Scrapy.\n",
        "BeautifulSoup.\n",
        "LightGBM.\n",
        "ELI5.\n",
        "Theano.\n",
        "NuPIC.\n",
        "Ramp.\n",
        "Pipenv.\n",
        "Bob.\n",
        "PyBrain.\n",
        "Caffe2.\n",
        "Chainer."
      ],
      "metadata": {
        "id": "RbUtLK4EDStm"
      }
    },
    {
      "cell_type": "markdown",
      "source": [
        "Exercise 6 - Create a markdown cell with a table of Data Science tools. (3 pts)\n",
        "\n",
        "Data Science Tools:\n",
        "\n",
        "Data Science Tools\n",
        "SAS. It is one of those data science tools which are specifically designed for statistical operation\n",
        "Apache Spark\n",
        "BigML"
      ],
      "metadata": {
        "id": "Qy1Wg513Dffm"
      }
    },
    {
      "cell_type": "markdown",
      "source": [
        "Exercise 7 - Create a markdown cell introducing arithmetic expression examples. (1 pt)\n",
        "\n",
        "Below are a few examples of evaluating arithmetic expressions in Python"
      ],
      "metadata": {
        "id": "W4pzLQJbDmC0"
      }
    },
    {
      "cell_type": "code",
      "execution_count": 2,
      "metadata": {
        "colab": {
          "base_uri": "https://localhost:8080/"
        },
        "id": "bGHu-A2iBV67",
        "outputId": "2dabce5e-ae5d-422c-d8c5-e7340d82ddb6"
      },
      "outputs": [
        {
          "output_type": "execute_result",
          "data": {
            "text/plain": [
              "90"
            ]
          },
          "metadata": {},
          "execution_count": 2
        }
      ],
      "source": [
        "code = compile(\"50 + 40\", \"<string>\", \"eval\")\n",
        "eval(code)"
      ]
    },
    {
      "cell_type": "code",
      "source": [
        "code1 = compile(\"(50 + 70) * 2\", \"<string>\", \"eval\")\n",
        "eval(code1)"
      ],
      "metadata": {
        "colab": {
          "base_uri": "https://localhost:8080/"
        },
        "id": "Vsaeio7EDz4c",
        "outputId": "510a31b0-0672-4e97-8f5d-3949d6717238"
      },
      "execution_count": 5,
      "outputs": [
        {
          "output_type": "execute_result",
          "data": {
            "text/plain": [
              "240"
            ]
          },
          "metadata": {},
          "execution_count": 5
        }
      ]
    },
    {
      "cell_type": "code",
      "source": [
        "import math\n",
        "# Volume of a sphere\n",
        "code2 = compile(\"4 / 3 * math.pi * math.pow(25, 3)\", \"<string>\", \"eval\")\n",
        "eval(code2)"
      ],
      "metadata": {
        "colab": {
          "base_uri": "https://localhost:8080/"
        },
        "id": "aqtwSz87D34x",
        "outputId": "81274e85-6b58-4347-947a-2d1557206156"
      },
      "execution_count": 4,
      "outputs": [
        {
          "output_type": "execute_result",
          "data": {
            "text/plain": [
              "65449.84694978735"
            ]
          },
          "metadata": {},
          "execution_count": 4
        }
      ]
    },
    {
      "cell_type": "markdown",
      "source": [
        "Exercise 8 - Create a code cell to multiply and add numbers.(2 pts)\n",
        "\n",
        "This a simple arithmetic expression to mutiply then add integers"
      ],
      "metadata": {
        "id": "z9G4KwNhECoJ"
      }
    },
    {
      "cell_type": "code",
      "source": [
        "(30*40)+5"
      ],
      "metadata": {
        "colab": {
          "base_uri": "https://localhost:8080/"
        },
        "id": "HMtQ6VoSEDOX",
        "outputId": "3afcab53-fca8-4160-bde8-cb9a08f95043"
      },
      "execution_count": 6,
      "outputs": [
        {
          "output_type": "execute_result",
          "data": {
            "text/plain": [
              "1205"
            ]
          },
          "metadata": {},
          "execution_count": 6
        }
      ]
    },
    {
      "cell_type": "markdown",
      "source": [
        "Exercise 9 - Create a code cell to convert minutes to hours. (2 pts)\n",
        "\n",
        "This will convert 200 minutes to hours by diving by 60"
      ],
      "metadata": {
        "id": "m317o4xJERdr"
      }
    },
    {
      "cell_type": "code",
      "source": [
        "days = 0\n",
        "hours = 0\n",
        "mins = 0\n",
        "\n",
        "time = 200\n",
        "#days = time / 1440\n",
        "leftover_minutes = time % 1440\n",
        "hours = leftover_minutes / 60\n",
        "#mins = time - (days*1440) - (hours*60)\n",
        "print(str(days) + \" days, \" + str(hours) + \" hours, \" + str(mins) +  \" mins. \")"
      ],
      "metadata": {
        "id": "ef0ZlDbaEHQZ"
      },
      "execution_count": null,
      "outputs": []
    },
    {
      "cell_type": "markdown",
      "source": [
        "Exercise 10 -Insert a markdown cell to list Objectives.\n",
        "\n",
        "Below the introduction cell created in Exercise 3, insert a new markdown cell to list the objectives that this notebook covered (i.e. some of the key takeaways from the course). In this new cell start with an introductory line titled: Objectives: in bold font. Then using an unordered list (bullets) indicate 3 to 5 items covered in this notebook, such as List popular languages for Data Science.\n",
        "\n",
        "Exercise 11 - Create a markdown cell to indicate the Author’s name."
      ],
      "metadata": {
        "id": "iy5ZQILEEZoO"
      }
    },
    {
      "cell_type": "markdown",
      "source": [
        "Author:\n",
        "Germano Costa"
      ],
      "metadata": {
        "id": "-PZdenVTEcpw"
      }
    }
  ]
}