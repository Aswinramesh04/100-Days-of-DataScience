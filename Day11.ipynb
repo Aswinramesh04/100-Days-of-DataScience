{
  "nbformat": 4,
  "nbformat_minor": 0,
  "metadata": {
    "colab": {
      "provenance": [],
      "authorship_tag": "ABX9TyPf6LiwEXcsONdC+toE51YM",
      "include_colab_link": true
    },
    "kernelspec": {
      "name": "python3",
      "display_name": "Python 3"
    },
    "language_info": {
      "name": "python"
    }
  },
  "cells": [
    {
      "cell_type": "markdown",
      "metadata": {
        "id": "view-in-github",
        "colab_type": "text"
      },
      "source": [
        "<a href=\"https://colab.research.google.com/github/Aswinramesh04/100-DaysOfCode-DataScience/blob/main/Day11.ipynb\" target=\"_parent\"><img src=\"https://colab.research.google.com/assets/colab-badge.svg\" alt=\"Open In Colab\"/></a>"
      ]
    },
    {
      "cell_type": "markdown",
      "source": [
        "                  Matplo  -- Loga Aswin"
      ],
      "metadata": {
        "id": "9srt9XdSJf1V"
      }
    },
    {
      "cell_type": "markdown",
      "source": [
        "Matplotlib tutorial"
      ],
      "metadata": {
        "id": "fS86UUA-Jp3L"
      }
    },
    {
      "cell_type": "markdown",
      "source": [
        "**Table of Contents**"
      ],
      "metadata": {
        "id": "3pg3Qz-lOyJk"
      }
    }
  ]
}