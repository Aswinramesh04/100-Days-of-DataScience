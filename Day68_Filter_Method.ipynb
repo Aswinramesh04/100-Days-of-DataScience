{
  "nbformat": 4,
  "nbformat_minor": 0,
  "metadata": {
    "colab": {
      "provenance": [],
      "authorship_tag": "ABX9TyO63T7+gNURH/HZJ84v3KuM",
      "include_colab_link": true
    },
    "kernelspec": {
      "name": "python3",
      "display_name": "Python 3"
    },
    "language_info": {
      "name": "python"
    }
  },
  "cells": [
    {
      "cell_type": "markdown",
      "metadata": {
        "id": "view-in-github",
        "colab_type": "text"
      },
      "source": [
        "<a href=\"https://colab.research.google.com/github/Aswinramesh04/100-Days-of-DataScience/blob/main/Day68_Filter_Method.ipynb\" target=\"_parent\"><img src=\"https://colab.research.google.com/assets/colab-badge.svg\" alt=\"Open In Colab\"/></a>"
      ]
    },
    {
      "cell_type": "markdown",
      "source": [
        "               Day 68 Filter Method  By: Loga Aswin"
      ],
      "metadata": {
        "id": "AmnNAYIJwlgx"
      }
    },
    {
      "cell_type": "code",
      "source": [
        "import pandas as pd\n",
        "from sklearn.feature_selection import SelectKBest, f_classif, mutual_info_classif, chi2\n",
        "from sklearn.datasets import load_breast_cancer  # Changed dataset to breast cancer\n",
        "\n",
        "# Load breast cancer dataset\n",
        "breast_cancer = load_breast_cancer()\n",
        "df = pd.DataFrame(breast_cancer.data, columns=breast_cancer.feature_names)\n",
        "target = breast_cancer.target"
      ],
      "metadata": {
        "id": "gWAxaNelyfmt"
      },
      "execution_count": 19,
      "outputs": []
    },
    {
      "cell_type": "markdown",
      "source": [
        "**Various Methods Used in Filter Method**"
      ],
      "metadata": {
        "id": "4MEjIuXE32bC"
      }
    },
    {
      "cell_type": "markdown",
      "source": [
        "**1. Correlation-based Feature Selection**:\n",
        "Identifies top features based on their correlation with the target variable."
      ],
      "metadata": {
        "id": "apG9LRGQzO35"
      }
    },
    {
      "cell_type": "code",
      "source": [
        "corr_scores = df.corrwith(pd.Series(target, name=\"Target\")).abs().sort_values(ascending=False)\n",
        "k_corr = 3\n",
        "selected_corr = corr_scores.index[:k_corr]\n",
        "\n",
        "print(\"Top features:\")\n",
        "print(selected_corr)"
      ],
      "metadata": {
        "colab": {
          "base_uri": "https://localhost:8080/"
        },
        "id": "who3SrvPzFR4",
        "outputId": "fc9bff38-d851-420e-aa1a-d37a32c9f36f"
      },
      "execution_count": 13,
      "outputs": [
        {
          "output_type": "stream",
          "name": "stdout",
          "text": [
            "Top features:\n",
            "Index(['worst concave points', 'worst perimeter', 'mean concave points'], dtype='object')\n"
          ]
        }
      ]
    },
    {
      "cell_type": "markdown",
      "source": [
        "**2. Mutual Information-based Feature Selection**: Selects features with the highest mutual information with the target."
      ],
      "metadata": {
        "id": "YJalF05MzahI"
      }
    },
    {
      "cell_type": "code",
      "source": [
        "k_mi = 3\n",
        "selected_mi = SelectKBest(score_func=mutual_info_classif, k=k_mi).fit(df, target)\n",
        "selected_mi = df.columns[selected_mi.get_support()]\n",
        "\n",
        "print(\"Top features:\")\n",
        "print(selected_mi)"
      ],
      "metadata": {
        "colab": {
          "base_uri": "https://localhost:8080/"
        },
        "id": "pVRFytI5zSUb",
        "outputId": "3b2e2806-8927-4d17-80d2-5c14941576ba"
      },
      "execution_count": 14,
      "outputs": [
        {
          "output_type": "stream",
          "name": "stdout",
          "text": [
            "Top features using mutual information-based selection:\n",
            "Index(['worst radius', 'worst perimeter', 'worst area'], dtype='object')\n"
          ]
        }
      ]
    },
    {
      "cell_type": "markdown",
      "source": [
        "**3. Chi-square Test**:Uses chi-square test to find features most related to the target in categorical data."
      ],
      "metadata": {
        "id": "LNmh-xoMzhoE"
      }
    },
    {
      "cell_type": "code",
      "source": [
        "chi2_feat = SelectKBest(chi2, k=3)\n",
        "X_kbest = chi2_feat.fit_transform(df, target)\n",
        "\n",
        "print(\"Shape before and after chi-square test:\")\n",
        "print(df.shape)\n",
        "print(X_kbest.shape)"
      ],
      "metadata": {
        "colab": {
          "base_uri": "https://localhost:8080/"
        },
        "id": "hSx5bCkLzdQ8",
        "outputId": "11b3c2b4-1dd8-4a87-8dd0-9103707a780b"
      },
      "execution_count": 15,
      "outputs": [
        {
          "output_type": "stream",
          "name": "stdout",
          "text": [
            "Shape before and after chi-square test:\n",
            "(569, 30)\n",
            "(569, 3)\n"
          ]
        }
      ]
    },
    {
      "cell_type": "markdown",
      "source": [
        "**4. Fisher's Score**: Utilizes Fisher's Score to pick the most discriminative features for classification.\n"
      ],
      "metadata": {
        "id": "vOG8IDA9zkwG"
      }
    },
    {
      "cell_type": "code",
      "source": [
        "k_fisher = 2\n",
        "fisher_selector = SelectKBest(score_func=f_classif, k=k_fisher)\n",
        "X_new = fisher_selector.fit_transform(df, target)\n",
        "\n",
        "# get indices\n",
        "sel_indices = fisher_selector.get_support(indices=True)\n",
        "selected_fisher = [breast_cancer.feature_names[i] for i in sel_indices]\n",
        "\n",
        "print(\"Top features using Fisher's Score:\")\n",
        "print(selected_fisher)"
      ],
      "metadata": {
        "colab": {
          "base_uri": "https://localhost:8080/"
        },
        "id": "zIa-la1jzlY2",
        "outputId": "40e063b6-4d3a-4f54-acba-d96c66f75b2d"
      },
      "execution_count": 20,
      "outputs": [
        {
          "output_type": "stream",
          "name": "stdout",
          "text": [
            "Top features using Fisher's Score:\n",
            "['worst perimeter', 'worst concave points']\n"
          ]
        }
      ]
    },
    {
      "cell_type": "markdown",
      "source": [
        "**5. Missing Value Ratio:**\n",
        "\n",
        "Filters features based on a threshold for the ratio of missing values.\n",
        "\n",
        "\n",
        "\n",
        "\n"
      ],
      "metadata": {
        "id": "j0wYdvOp0qso"
      }
    },
    {
      "cell_type": "code",
      "source": [
        "from sklearn.impute import SimpleImputer\n",
        "\n",
        "thresh_missing = 0.3\n",
        "missing_ratio = df.isnull().mean()\n",
        "\n",
        "selected_missing = df.columns[missing_ratio < thresh_missing]\n",
        "\n",
        "# Impute missing values if needed\n",
        "imputer = SimpleImputer(strategy='mean')\n",
        "df[selected_missing] = imputer.fit_transform(df[selected_missing])\n",
        "\n",
        "print(\"Selected features after handling missing values:\")\n",
        "print(selected_missing)"
      ],
      "metadata": {
        "colab": {
          "base_uri": "https://localhost:8080/"
        },
        "id": "L8DgTiOJz5We",
        "outputId": "9814664b-b17b-4e95-c261-b2b67bc7580d"
      },
      "execution_count": 21,
      "outputs": [
        {
          "output_type": "stream",
          "name": "stdout",
          "text": [
            "Selected features after handling missing values:\n",
            "Index(['mean radius', 'mean texture', 'mean perimeter', 'mean area',\n",
            "       'mean smoothness', 'mean compactness', 'mean concavity',\n",
            "       'mean concave points', 'mean symmetry', 'mean fractal dimension',\n",
            "       'radius error', 'texture error', 'perimeter error', 'area error',\n",
            "       'smoothness error', 'compactness error', 'concavity error',\n",
            "       'concave points error', 'symmetry error', 'fractal dimension error',\n",
            "       'worst radius', 'worst texture', 'worst perimeter', 'worst area',\n",
            "       'worst smoothness', 'worst compactness', 'worst concavity',\n",
            "       'worst concave points', 'worst symmetry', 'worst fractal dimension'],\n",
            "      dtype='object')\n"
          ]
        }
      ]
    }
  ]
}