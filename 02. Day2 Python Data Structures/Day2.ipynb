{
  "nbformat": 4,
  "nbformat_minor": 0,
  "metadata": {
    "colab": {
      "provenance": [],
      "authorship_tag": "ABX9TyPE7PLYXBsSxWiNJmvr85IS",
      "include_colab_link": true
    },
    "kernelspec": {
      "name": "python3",
      "display_name": "Python 3"
    },
    "language_info": {
      "name": "python"
    }
  },
  "cells": [
    {
      "cell_type": "markdown",
      "metadata": {
        "id": "view-in-github",
        "colab_type": "text"
      },
      "source": [
        "<a href=\"https://colab.research.google.com/github/Aswinramesh04/100-DaysOfCode-DataScience/blob/main/Day2.ipynb\" target=\"_parent\"><img src=\"https://colab.research.google.com/assets/colab-badge.svg\" alt=\"Open In Colab\"/></a>"
      ]
    },
    {
      "cell_type": "markdown",
      "source": [
        "                                    Python Data Types  By: Loga Aswin"
      ],
      "metadata": {
        "id": "Y0HcrK81sWtn"
      }
    },
    {
      "cell_type": "markdown",
      "source": [
        "**List**\n",
        "It is an ordered collection of similar or different types of items separated by commas and enclosed within brackets[]."
      ],
      "metadata": {
        "id": "r0obYYX5ssXV"
      }
    },
    {
      "cell_type": "code",
      "execution_count": null,
      "metadata": {
        "colab": {
          "base_uri": "https://localhost:8080/"
        },
        "id": "ooppUuiwsTMq",
        "outputId": "7474b94a-0344-4d2a-c845-925a0d6f5ae6"
      },
      "outputs": [
        {
          "output_type": "stream",
          "name": "stdout",
          "text": [
            "Audi\n",
            "<class 'list'>\n"
          ]
        }
      ],
      "source": [
        "car=[\"polo\",\"Audi\",\"Bmw\"]\n",
        "print(car[1])\n",
        "print(type(car))\n"
      ]
    },
    {
      "cell_type": "markdown",
      "source": [
        "**Append:**\n",
        "append() adds an element at the end of the list"
      ],
      "metadata": {
        "id": "f4uTuNEgt2Tu"
      }
    },
    {
      "cell_type": "code",
      "source": [
        "sample = [1, 2, 3, 4, 5, 6]\n",
        "sample.append(5)\n",
        "sample.append([7, 8, 9])\n",
        "sample.extend([6, 7, 8])\n",
        "print(sample)"
      ],
      "metadata": {
        "colab": {
          "base_uri": "https://localhost:8080/"
        },
        "id": "fyCgyYIRtqnZ",
        "outputId": "f05589a6-caae-422f-ac36-2a52e0b04a30"
      },
      "execution_count": null,
      "outputs": [
        {
          "output_type": "stream",
          "name": "stdout",
          "text": [
            "[1, 2, 3, 4, 5, 6, 5, [7, 8, 9], 6, 7, 8]\n"
          ]
        }
      ]
    },
    {
      "cell_type": "markdown",
      "source": [
        "**Slicing**"
      ],
      "metadata": {
        "id": "KFqmGSEvvMAV"
      }
    },
    {
      "cell_type": "code",
      "source": [
        "list = [1, 2, 3, 4, 5, 6, 7]\n",
        "print(list[0:4])\n",
        "print(list[::])\n",
        "print(list[::-1])\n",
        "print(list[-1::])"
      ],
      "metadata": {
        "colab": {
          "base_uri": "https://localhost:8080/"
        },
        "id": "Q3T29Oy8uWan",
        "outputId": "4cac5b1f-26d8-496d-8d69-e180ad24671a"
      },
      "execution_count": null,
      "outputs": [
        {
          "output_type": "stream",
          "name": "stdout",
          "text": [
            "[1, 2, 3, 4]\n",
            "[1, 2, 3, 4, 5, 6, 7]\n",
            "[7, 6, 5, 4, 3, 2, 1]\n",
            "[7]\n"
          ]
        }
      ]
    },
    {
      "cell_type": "markdown",
      "source": [
        "**Deleting elements in list**"
      ],
      "metadata": {
        "id": "DlI6XVZuvfW7"
      }
    },
    {
      "cell_type": "code",
      "source": [
        "list = [1, 2, 3, 4, 5, 6, 7]\n",
        "print(list.pop(2))\n",
        "print(list)\n",
        "list.remove(4)\n",
        "print(list)\n",
        "list.clear()\n",
        "print(list)"
      ],
      "metadata": {
        "colab": {
          "base_uri": "https://localhost:8080/"
        },
        "id": "mwY7oetiwD4F",
        "outputId": "8ce534a9-38d9-4034-dc8c-239721b5b655"
      },
      "execution_count": 3,
      "outputs": [
        {
          "output_type": "stream",
          "name": "stdout",
          "text": [
            "3\n",
            "[1, 2, 4, 5, 6, 7]\n",
            "[1, 2, 5, 6, 7]\n",
            "[]\n"
          ]
        }
      ]
    },
    {
      "cell_type": "markdown",
      "source": [
        "                            **Tuples**\n",
        "A tuple is a collection of objects that are ordered and immutable."
      ],
      "metadata": {
        "id": "7csCnpAtyC5Y"
      }
    },
    {
      "cell_type": "code",
      "source": [
        "# Different types of tuples\n",
        "\n",
        "# Empty tuple\n",
        "tuple = ()\n",
        "print(tuple)\n",
        "\n",
        "# integers\n",
        "tuple = (10, 20, 30)\n",
        "print(tuple)\n",
        "\n",
        "# mixed datatypes\n",
        "tuple = (1, \"Hello\", 3.4)\n",
        "print(tuple)\n",
        "\n",
        "# nested tuple\n",
        "tuple = (\"mouse\", [8, 4, 6], (1, 2, 3))\n",
        "print(tuple)"
      ],
      "metadata": {
        "colab": {
          "base_uri": "https://localhost:8080/"
        },
        "id": "TqHrn4H8yCbr",
        "outputId": "647c2e70-4be5-4837-f246-d64ee314248e"
      },
      "execution_count": 4,
      "outputs": [
        {
          "output_type": "stream",
          "name": "stdout",
          "text": [
            "()\n",
            "(10, 20, 30)\n",
            "(1, 'Hello', 3.4)\n",
            "('mouse', [8, 4, 6], (1, 2, 3))\n"
          ]
        }
      ]
    },
    {
      "cell_type": "markdown",
      "source": [
        "**Slicing**"
      ],
      "metadata": {
        "id": "3j2oiBAQzEBo"
      }
    },
    {
      "cell_type": "code",
      "source": [
        "# accessing tuple\n",
        "tuple = (1,2,3,4,5,6,7,8,9)\n",
        "\n",
        "print(tuple[1:4])\n",
        "\n",
        "print(tuple[:-7])\n",
        "\n",
        "print(tuple[7:])\n",
        "\n",
        "print(tuple[:])"
      ],
      "metadata": {
        "colab": {
          "base_uri": "https://localhost:8080/"
        },
        "id": "fPbpyQiPzGgB",
        "outputId": "05c6d3b9-1329-4f03-fdfd-c80c235ba2e9"
      },
      "execution_count": 6,
      "outputs": [
        {
          "output_type": "stream",
          "name": "stdout",
          "text": [
            "(2, 3, 4)\n",
            "(1, 2)\n",
            "(8, 9)\n",
            "(1, 2, 3, 4, 5, 6, 7, 8, 9)\n"
          ]
        }
      ]
    },
    {
      "cell_type": "code",
      "source": [
        "tuple = (1,2,3,4)  #iterating through tuple\n",
        "for tuple in tuple:\n",
        "  print(\"tuple\")"
      ],
      "metadata": {
        "colab": {
          "base_uri": "https://localhost:8080/"
        },
        "id": "YIqEdWtE0HUH",
        "outputId": "89519123-3d40-44ae-b3cc-27841af57dbe"
      },
      "execution_count": 9,
      "outputs": [
        {
          "output_type": "stream",
          "name": "stdout",
          "text": [
            "tuple\n",
            "tuple\n",
            "tuple\n",
            "tuple\n"
          ]
        }
      ]
    },
    {
      "cell_type": "markdown",
      "source": [
        "                               **Sets**\n",
        "Empty curly braces { } will make an empty dictionary in Python.                               \n"
      ],
      "metadata": {
        "id": "IQLfaz3G0Rwn"
      }
    },
    {
      "cell_type": "code",
      "source": [
        "num = {2, 4, 6, 6, 2, 8}\n",
        "print(num)"
      ],
      "metadata": {
        "colab": {
          "base_uri": "https://localhost:8080/"
        },
        "id": "2FQhCV4u1Irt",
        "outputId": "8e5aff86-d94e-4b10-b99f-8aee41d44ec8"
      },
      "execution_count": 10,
      "outputs": [
        {
          "output_type": "stream",
          "name": "stdout",
          "text": [
            "{8, 2, 4, 6}\n"
          ]
        }
      ]
    },
    {
      "cell_type": "code",
      "source": [
        "num = {45, 39, 30, 75}\n",
        "\n",
        "print('before:',num)\n",
        "num.add(32)\n",
        "print('after:', num)"
      ],
      "metadata": {
        "colab": {
          "base_uri": "https://localhost:8080/"
        },
        "id": "wrPhwPNi1Tbn",
        "outputId": "97738c7e-0715-4af6-9ca4-a04cbbb5685e"
      },
      "execution_count": 11,
      "outputs": [
        {
          "output_type": "stream",
          "name": "stdout",
          "text": [
            "before: {75, 45, 30, 39}\n",
            "after: {32, 39, 75, 45, 30}\n"
          ]
        }
      ]
    },
    {
      "cell_type": "code",
      "source": [
        "languages = {'React', 'Java', 'Python'}\n",
        "\n",
        "print('before:',languages)\n",
        "removedValue = languages.discard('Java')\n",
        "print('after:', languages)"
      ],
      "metadata": {
        "colab": {
          "base_uri": "https://localhost:8080/"
        },
        "id": "RpUREBUz1yS_",
        "outputId": "efeb0688-2904-4cf7-dbd1-8ad97dbe441d"
      },
      "execution_count": 13,
      "outputs": [
        {
          "output_type": "stream",
          "name": "stdout",
          "text": [
            "before: {'React', 'Python', 'Java'}\n",
            "after: {'React', 'Python'}\n"
          ]
        }
      ]
    },
    {
      "cell_type": "code",
      "source": [
        "num = {2, 4, 6, 6, 2, 8}\n",
        "print(len(num))"
      ],
      "metadata": {
        "colab": {
          "base_uri": "https://localhost:8080/"
        },
        "id": "zUWZVOk62dsM",
        "outputId": "cdb9c05a-aaec-49f6-d3c9-61cf4552e796"
      },
      "execution_count": 14,
      "outputs": [
        {
          "output_type": "stream",
          "name": "stdout",
          "text": [
            "4\n"
          ]
        }
      ]
    },
    {
      "cell_type": "markdown",
      "source": [
        "**Set Intersection**"
      ],
      "metadata": {
        "id": "ihZYZouV3LQN"
      }
    },
    {
      "cell_type": "code",
      "source": [
        "A = {1, 3, 5}\n",
        "B = {1, 2, 3}\n",
        "print('using &:', A & B)\n",
        "print('using intersection():', A.intersection(B))"
      ],
      "metadata": {
        "colab": {
          "base_uri": "https://localhost:8080/"
        },
        "id": "Qm-X-a0M3OFb",
        "outputId": "217c70b7-aab0-4f72-f6bc-fd17ab607f5e"
      },
      "execution_count": 15,
      "outputs": [
        {
          "output_type": "stream",
          "name": "stdout",
          "text": [
            "using &: {1, 3}\n",
            "using intersection(): {1, 3}\n"
          ]
        }
      ]
    },
    {
      "cell_type": "code",
      "source": [
        "print('using -:', A - B)\n",
        "print('using intersection():', A.difference(B))"
      ],
      "metadata": {
        "colab": {
          "base_uri": "https://localhost:8080/"
        },
        "id": "j3ndBqTb3Xfu",
        "outputId": "d8c6836b-0c80-43c4-c6a8-b3ec940fdac8"
      },
      "execution_count": 17,
      "outputs": [
        {
          "output_type": "stream",
          "name": "stdout",
          "text": [
            "using -: {5}\n",
            "using intersection(): {5}\n"
          ]
        }
      ]
    },
    {
      "cell_type": "markdown",
      "source": [
        "**Dictionary**"
      ],
      "metadata": {
        "id": "tfHTo4XE4CEs"
      }
    },
    {
      "cell_type": "code",
      "source": [
        "dict = {1:'a', 2:'b', 5:'c', 4:'d'}\n",
        "print(dict)\n",
        "print(dict[5])"
      ],
      "metadata": {
        "colab": {
          "base_uri": "https://localhost:8080/"
        },
        "id": "iANjNgEZ4Ewa",
        "outputId": "3edd799b-c6f3-4c67-d6b8-3c4d40223e14"
      },
      "execution_count": 18,
      "outputs": [
        {
          "output_type": "stream",
          "name": "stdout",
          "text": [
            "{1: 'a', 2: 'b', 5: 'c', 4: 'd'}\n",
            "c\n"
          ]
        }
      ]
    },
    {
      "cell_type": "code",
      "source": [
        "print(dict.items())\n",
        "print(dict.keys())\n",
        "print(dict.values())"
      ],
      "metadata": {
        "colab": {
          "base_uri": "https://localhost:8080/"
        },
        "id": "FvtWMjgs44MQ",
        "outputId": "8a2ca792-c84f-4b0d-f8b3-149becfacf37"
      },
      "execution_count": 23,
      "outputs": [
        {
          "output_type": "stream",
          "name": "stdout",
          "text": [
            "dict_items([(1, 'a'), (2, 'b'), (5, 'c'), (4, 'd')])\n",
            "dict_keys([1, 2, 5, 4])\n",
            "dict_values(['a', 'b', 'c', 'd'])\n"
          ]
        }
      ]
    }
  ]
}