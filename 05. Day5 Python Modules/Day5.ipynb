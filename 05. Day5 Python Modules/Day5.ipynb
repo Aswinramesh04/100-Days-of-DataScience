{
  "nbformat": 4,
  "nbformat_minor": 0,
  "metadata": {
    "colab": {
      "provenance": [],
      "authorship_tag": "ABX9TyMIfjK3NDSO3xJprwd54cAP",
      "include_colab_link": true
    },
    "kernelspec": {
      "name": "python3",
      "display_name": "Python 3"
    },
    "language_info": {
      "name": "python"
    }
  },
  "cells": [
    {
      "cell_type": "markdown",
      "metadata": {
        "id": "view-in-github",
        "colab_type": "text"
      },
      "source": [
        "<a href=\"https://colab.research.google.com/github/Aswinramesh04/100-DaysOfCode-DataScience/blob/main/Day5.ipynb\" target=\"_parent\"><img src=\"https://colab.research.google.com/assets/colab-badge.svg\" alt=\"Open In Colab\"/></a>"
      ]
    },
    {
      "cell_type": "markdown",
      "source": [
        "                                **Python Modules**      By: Loga Aswin"
      ],
      "metadata": {
        "id": "XGnLdIrNAie9"
      }
    },
    {
      "cell_type": "markdown",
      "source": [
        "There are two types of modules:\n",
        "**Built-in module:\n",
        "**User-defined module:"
      ],
      "metadata": {
        "id": "VZ2goEeRA5sS"
      }
    },
    {
      "cell_type": "code",
      "execution_count": 1,
      "metadata": {
        "colab": {
          "base_uri": "https://localhost:8080/"
        },
        "id": "rX7hpXdFAI9l",
        "outputId": "dce09334-8a95-491a-8c5f-265085f2d907"
      },
      "outputs": [
        {
          "output_type": "stream",
          "name": "stdout",
          "text": [
            "The square root of 25 is 5.0\n",
            "The factorial of 5 is 120\n",
            "The value of pi is approximately 3.141592653589793\n",
            "The sine of 30 degrees is 0.49999999999999994\n",
            "The natural logarithm of 2.71828 is 0.999999327347282\n",
            "2 raised to the power of 3 is 8.0\n",
            "3.7 rounded to the nearest integer is 4\n"
          ]
        }
      ],
      "source": [
        "import math\n",
        "\n",
        "# Calculate the square root of a number\n",
        "num = 25\n",
        "sqrt_num = math.sqrt(num)\n",
        "print(f\"The square root of {num} is {sqrt_num}\")\n",
        "\n",
        "# Calculate the factorial of a number\n",
        "num = 5\n",
        "factorial = math.factorial(num)\n",
        "print(f\"The factorial of {num} is {factorial}\")\n",
        "\n",
        "# Calculate the value of pi\n",
        "pi_value = math.pi\n",
        "print(f\"The value of pi is approximately {pi_value}\")\n",
        "\n",
        "# Calculate the sine of an angle in radians\n",
        "angle_rad = math.radians(30)  # Convert 30 degrees to radians\n",
        "sin_value = math.sin(angle_rad)\n",
        "print(f\"The sine of 30 degrees is {sin_value}\")\n",
        "\n",
        "# Calculate the natural logarithm (base e) of a number\n",
        "num = 2.71828  # Euler's number (approximately)\n",
        "ln_value = math.log(num)\n",
        "print(f\"The natural logarithm of {num} is {ln_value}\")\n",
        "\n",
        "# Calculate the power of a number\n",
        "base = 2\n",
        "exponent = 3\n",
        "power_result = math.pow(base, exponent)\n",
        "print(f\"{base} raised to the power of {exponent} is {power_result}\")\n",
        "\n",
        "# Round a number to the nearest integer\n",
        "num = 3.7\n",
        "rounded_num = math.ceil(num)  # ceil() rounds up, floor() rounds down\n",
        "print(f\"{num} rounded to the nearest integer is {rounded_num}\")\n"
      ]
    },
    {
      "cell_type": "markdown",
      "source": [
        "Date & Time"
      ],
      "metadata": {
        "id": "24cMrgqpDVUR"
      }
    },
    {
      "cell_type": "code",
      "source": [
        "import datetime\n",
        "\n",
        "# Get the current date and time\n",
        "current_datetime = datetime.datetime.now()\n",
        "print(f\"Current Date and Time: {current_datetime}\")\n",
        "\n",
        "# Get the current date\n",
        "current_date = datetime.date.today()\n",
        "print(f\"Current Date: {current_date}\")\n",
        "\n",
        "# Create a specific date\n",
        "specific_date = datetime.date(2023, 9, 30)\n",
        "print(f\"Specific Date: {specific_date}\")\n",
        "\n",
        "# Create a specific time\n",
        "specific_time = datetime.time(14, 30, 0)\n",
        "print(f\"Specific Time: {specific_time}\")\n",
        "\n",
        "# Combine date and time into a datetime object\n",
        "combined_datetime = datetime.datetime.combine(specific_date, specific_time)\n",
        "print(f\"Combined DateTime: {combined_datetime}\")\n",
        "\n",
        "# Access individual components of a datetime object\n",
        "year = current_datetime.year\n",
        "month = current_datetime.month\n",
        "day = current_datetime.day\n",
        "hour = current_datetime.hour\n",
        "minute = current_datetime.minute\n",
        "second = current_datetime.second\n",
        "\n",
        "print(f\"Year: {year}\")\n",
        "print(f\"Month: {month}\")\n",
        "print(f\"Day: {day}\")\n",
        "print(f\"Hour: {hour}\")\n",
        "print(f\"Minute: {minute}\")\n",
        "print(f\"Second: {second}\")\n",
        "\n",
        "\n"
      ],
      "metadata": {
        "colab": {
          "base_uri": "https://localhost:8080/"
        },
        "id": "YpHCnwlvC_VP",
        "outputId": "4b67699b-1bb6-4637-f9b6-4f377eb5465f"
      },
      "execution_count": 5,
      "outputs": [
        {
          "output_type": "stream",
          "name": "stdout",
          "text": [
            "Current Date and Time: 2023-09-30 17:05:12.667692\n",
            "Current Date: 2023-09-30\n",
            "Specific Date: 2023-09-30\n",
            "Specific Time: 14:30:00\n",
            "Combined DateTime: 2023-09-30 14:30:00\n",
            "Year: 2023\n",
            "Month: 9\n",
            "Day: 30\n",
            "Hour: 17\n",
            "Minute: 5\n",
            "Second: 12\n"
          ]
        }
      ]
    },
    {
      "cell_type": "markdown",
      "source": [
        "**Calender**"
      ],
      "metadata": {
        "id": "EZUUEh9HD4Z4"
      }
    },
    {
      "cell_type": "code",
      "source": [
        "import calendar\n",
        "print(calendar.month(2022, 8))"
      ],
      "metadata": {
        "colab": {
          "base_uri": "https://localhost:8080/"
        },
        "id": "QGLAsyVOD8FT",
        "outputId": "c7c647b5-13ad-4153-da7e-cb6867cdfac9"
      },
      "execution_count": 8,
      "outputs": [
        {
          "output_type": "stream",
          "name": "stdout",
          "text": [
            "    August 2022\n",
            "Mo Tu We Th Fr Sa Su\n",
            " 1  2  3  4  5  6  7\n",
            " 8  9 10 11 12 13 14\n",
            "15 16 17 18 19 20 21\n",
            "22 23 24 25 26 27 28\n",
            "29 30 31\n",
            "\n"
          ]
        }
      ]
    },
    {
      "cell_type": "code",
      "source": [
        "import sys\n",
        "print(sys.version)\n",
        "print(sys.argv)"
      ],
      "metadata": {
        "colab": {
          "base_uri": "https://localhost:8080/"
        },
        "id": "BnyrnCZUESO6",
        "outputId": "b0f26f66-29cd-4c97-d19b-d480e837f6fd"
      },
      "execution_count": 11,
      "outputs": [
        {
          "output_type": "stream",
          "name": "stdout",
          "text": [
            "3.10.12 (main, Jun 11 2023, 05:26:28) [GCC 11.4.0]\n",
            "['/usr/local/lib/python3.10/dist-packages/colab_kernel_launcher.py', '-f', '/root/.local/share/jupyter/runtime/kernel-36a70b99-3de4-46ed-acb1-ca2a99929116.json']\n"
          ]
        }
      ]
    },
    {
      "cell_type": "markdown",
      "source": [
        "**User Defined module**"
      ],
      "metadata": {
        "id": "1kLY4DmPGP9u"
      }
    },
    {
      "cell_type": "code",
      "source": [
        "num1 = int(input(\"Enter first number:\"))\n",
        "\n",
        "num2 = int(input(\"Enter second number:\"))\n",
        "\n",
        "print(\"Addition\", num1 + num2)\n",
        "\n",
        "print(\"Subtraction\", num1 - num2)\n",
        "print(\"Multiplication\", num * num2)\n",
        "print(\"Division\",num1/num2)"
      ],
      "metadata": {
        "colab": {
          "base_uri": "https://localhost:8080/"
        },
        "id": "FUszj6nME_gg",
        "outputId": "6266575a-9658-41ef-8a71-31bc8d72622e"
      },
      "execution_count": 20,
      "outputs": [
        {
          "output_type": "stream",
          "name": "stdout",
          "text": [
            "Enter first number:50\n",
            "Enter second number:100\n",
            "Addition 150\n",
            "Subtraction -50\n",
            "Multiplication 370.0\n",
            "Division 0.5\n"
          ]
        }
      ]
    },
    {
      "cell_type": "code",
      "source": [
        "def square(number):\n",
        "    return number ** 2\n",
        "\n",
        "num = 5\n",
        "result = square(num)\n",
        "print(f\"The square of {num} is {result}\")\n"
      ],
      "metadata": {
        "colab": {
          "base_uri": "https://localhost:8080/"
        },
        "id": "UAJvaBJWIBOG",
        "outputId": "2bc2fab1-6c68-4bba-abb9-2a673fd3d440"
      },
      "execution_count": 25,
      "outputs": [
        {
          "output_type": "stream",
          "name": "stdout",
          "text": [
            "The square of 5 is 25\n"
          ]
        }
      ]
    },
    {
      "cell_type": "code",
      "source": [
        "import os\n",
        "\n",
        "current_directory = os.getcwd()\n",
        "print(f\"Current Directory: {current_directory}\")\n"
      ],
      "metadata": {
        "colab": {
          "base_uri": "https://localhost:8080/"
        },
        "id": "QG93jwHJHpEr",
        "outputId": "3dd9a250-19a0-4286-a89f-0d3eeab172ff"
      },
      "execution_count": 21,
      "outputs": [
        {
          "output_type": "stream",
          "name": "stdout",
          "text": [
            "Current Directory: /content\n"
          ]
        }
      ]
    },
    {
      "cell_type": "code",
      "source": [
        "import json\n",
        "\n",
        "# Serialize Python dictionary to JSON\n",
        "data = {\"name\": \"Alice\", \"age\": 30}\n",
        "json_data = json.dumps(data)\n",
        "print(\"JSON Data:\", json_data)\n",
        "\n",
        "# Deserialize JSON to Python dictionary\n",
        "parsed_data = json.loads(json_data)\n",
        "print(\"Python Dictionary:\", parsed_data)\n"
      ],
      "metadata": {
        "colab": {
          "base_uri": "https://localhost:8080/"
        },
        "id": "lC36R2QIIpan",
        "outputId": "1579ed51-0f99-42b9-8aa1-fb16da2e1b78"
      },
      "execution_count": 22,
      "outputs": [
        {
          "output_type": "stream",
          "name": "stdout",
          "text": [
            "JSON Data: {\"name\": \"Alice\", \"age\": 30}\n",
            "Python Dictionary: {'name': 'Alice', 'age': 30}\n"
          ]
        }
      ]
    },
    {
      "cell_type": "code",
      "source": [
        "import random\n",
        "\n",
        "# Generate a random integer between 1 and 10 (inclusive)\n",
        "random_num = random.randint(1, 10)\n",
        "print(\"Random Number:\", random_num)\n",
        "\n",
        "# Generate a random floating-point number between 0 and 1\n",
        "random_float = random.random()\n",
        "print(\"Random Float:\", random_float)\n"
      ],
      "metadata": {
        "colab": {
          "base_uri": "https://localhost:8080/"
        },
        "id": "Ao2IZIQSIwUX",
        "outputId": "35c75a3c-4a09-468c-d8ab-99edec79756e"
      },
      "execution_count": 23,
      "outputs": [
        {
          "output_type": "stream",
          "name": "stdout",
          "text": [
            "Random Number: 2\n",
            "Random Float: 0.0068412622002508305\n"
          ]
        }
      ]
    },
    {
      "cell_type": "code",
      "source": [
        "import pickle\n",
        "\n",
        "# Serialize Python object to a binary string\n",
        "data = {\"name\": \"Bob\", \"age\": 25}\n",
        "pickle_data = pickle.dumps(data)\n",
        "print(\"Pickled Data:\", pickle_data)\n",
        "\n",
        "# Deserialize Pickle data to Python object\n",
        "parsed_data = pickle.loads(pickle_data)\n",
        "print(\"Python Object:\", parsed_data)\n"
      ],
      "metadata": {
        "colab": {
          "base_uri": "https://localhost:8080/"
        },
        "id": "Cs6thqZaIx3t",
        "outputId": "16491238-7976-442c-985d-09b224b576bc"
      },
      "execution_count": 24,
      "outputs": [
        {
          "output_type": "stream",
          "name": "stdout",
          "text": [
            "Pickled Data: b'\\x80\\x04\\x95\\x1a\\x00\\x00\\x00\\x00\\x00\\x00\\x00}\\x94(\\x8c\\x04name\\x94\\x8c\\x03Bob\\x94\\x8c\\x03age\\x94K\\x19u.'\n",
            "Python Object: {'name': 'Bob', 'age': 25}\n"
          ]
        }
      ]
    }
  ]
}